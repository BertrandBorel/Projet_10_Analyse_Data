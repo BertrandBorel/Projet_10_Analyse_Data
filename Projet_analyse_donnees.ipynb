{
 "cells": [
  {
   "cell_type": "markdown",
   "metadata": {},
   "source": [
    "# <center> Projet Analyse de données </center>"
   ]
  },
  {
   "cell_type": "markdown",
   "metadata": {},
   "source": [
    "---"
   ]
  },
  {
   "cell_type": "markdown",
   "metadata": {},
   "source": [
    "## Dataset originel\n",
    "\n",
    "**source :**\n",
    "\n",
    "- [Pizza Price Data](https://www.kaggle.com/knightbearr/pizza-price-prediction-real-data)"
   ]
  },
  {
   "cell_type": "markdown",
   "metadata": {},
   "source": [
    "---"
   ]
  },
  {
   "cell_type": "markdown",
   "metadata": {},
   "source": [
    "## Importations"
   ]
  },
  {
   "cell_type": "code",
   "execution_count": 2,
   "metadata": {},
   "outputs": [],
   "source": [
    "import pandas as pd\n",
    "import numpy as np\n",
    "import matplotlib.pyplot as plt\n",
    "import seaborn as sns\n",
    "import mysql.connector as msql\n",
    "from mysql.connector import Error"
   ]
  },
  {
   "cell_type": "markdown",
   "metadata": {},
   "source": [
    "---"
   ]
  },
  {
   "cell_type": "markdown",
   "metadata": {},
   "source": [
    "## Visualisation du dataset"
   ]
  },
  {
   "cell_type": "code",
   "execution_count": 2,
   "metadata": {},
   "outputs": [
    {
     "data": {
      "text/html": [
       "<div>\n",
       "<style scoped>\n",
       "    .dataframe tbody tr th:only-of-type {\n",
       "        vertical-align: middle;\n",
       "    }\n",
       "\n",
       "    .dataframe tbody tr th {\n",
       "        vertical-align: top;\n",
       "    }\n",
       "\n",
       "    .dataframe thead th {\n",
       "        text-align: right;\n",
       "    }\n",
       "</style>\n",
       "<table border=\"1\" class=\"dataframe\">\n",
       "  <thead>\n",
       "    <tr style=\"text-align: right;\">\n",
       "      <th></th>\n",
       "      <th>Company</th>\n",
       "      <th>Pizza Name</th>\n",
       "      <th>Type</th>\n",
       "      <th>Size</th>\n",
       "      <th>Price</th>\n",
       "    </tr>\n",
       "  </thead>\n",
       "  <tbody>\n",
       "    <tr>\n",
       "      <th>0</th>\n",
       "      <td>Domino's Pizza</td>\n",
       "      <td>Hand Tossed</td>\n",
       "      <td>Cheeses Pizza</td>\n",
       "      <td>Small (10\")</td>\n",
       "      <td>$5.99</td>\n",
       "    </tr>\n",
       "    <tr>\n",
       "      <th>1</th>\n",
       "      <td>Domino's Pizza</td>\n",
       "      <td>Hand Tossed</td>\n",
       "      <td>Cheeses Pizza</td>\n",
       "      <td>Medium (12\")</td>\n",
       "      <td>$7.99</td>\n",
       "    </tr>\n",
       "    <tr>\n",
       "      <th>2</th>\n",
       "      <td>Domino's Pizza</td>\n",
       "      <td>Hand Tossed</td>\n",
       "      <td>Cheeses Pizza</td>\n",
       "      <td>Large (14\")</td>\n",
       "      <td>$9.99</td>\n",
       "    </tr>\n",
       "    <tr>\n",
       "      <th>3</th>\n",
       "      <td>Domino's Pizza</td>\n",
       "      <td>Handmade Pan</td>\n",
       "      <td>Cheeses Pizza</td>\n",
       "      <td>Medium (12\")</td>\n",
       "      <td>$7.99</td>\n",
       "    </tr>\n",
       "    <tr>\n",
       "      <th>4</th>\n",
       "      <td>Domino's Pizza</td>\n",
       "      <td>Crunchy Thin Crust</td>\n",
       "      <td>Cheeses Pizza</td>\n",
       "      <td>Small (10\")</td>\n",
       "      <td>$5.99</td>\n",
       "    </tr>\n",
       "    <tr>\n",
       "      <th>...</th>\n",
       "      <td>...</td>\n",
       "      <td>...</td>\n",
       "      <td>...</td>\n",
       "      <td>...</td>\n",
       "      <td>...</td>\n",
       "    </tr>\n",
       "    <tr>\n",
       "      <th>366</th>\n",
       "      <td>IMO's Pizza</td>\n",
       "      <td>BBQ Chicken Pizza</td>\n",
       "      <td>Specialty Pizzas</td>\n",
       "      <td>X Large (16\")</td>\n",
       "      <td>$23.85</td>\n",
       "    </tr>\n",
       "    <tr>\n",
       "      <th>367</th>\n",
       "      <td>IMO's Pizza</td>\n",
       "      <td>Egg-Ceptional Pizza</td>\n",
       "      <td>Specialty Pizzas</td>\n",
       "      <td>Small (10\")</td>\n",
       "      <td>$11.80</td>\n",
       "    </tr>\n",
       "    <tr>\n",
       "      <th>368</th>\n",
       "      <td>IMO's Pizza</td>\n",
       "      <td>Egg-Ceptional Pizza</td>\n",
       "      <td>Specialty Pizzas</td>\n",
       "      <td>Medium (12\")</td>\n",
       "      <td>$14.95</td>\n",
       "    </tr>\n",
       "    <tr>\n",
       "      <th>369</th>\n",
       "      <td>IMO's Pizza</td>\n",
       "      <td>Egg-Ceptional Pizza</td>\n",
       "      <td>Specialty Pizzas</td>\n",
       "      <td>Large (14\")</td>\n",
       "      <td>$18.65</td>\n",
       "    </tr>\n",
       "    <tr>\n",
       "      <th>370</th>\n",
       "      <td>IMO's Pizza</td>\n",
       "      <td>Egg-Ceptional Pizza</td>\n",
       "      <td>Specialty Pizzas</td>\n",
       "      <td>X Large (16\")</td>\n",
       "      <td>$22.30</td>\n",
       "    </tr>\n",
       "  </tbody>\n",
       "</table>\n",
       "<p>371 rows × 5 columns</p>\n",
       "</div>"
      ],
      "text/plain": [
       "            Company           Pizza Name              Type           Size  \\\n",
       "0    Domino's Pizza          Hand Tossed     Cheeses Pizza    Small (10\")   \n",
       "1    Domino's Pizza          Hand Tossed     Cheeses Pizza   Medium (12\")   \n",
       "2    Domino's Pizza          Hand Tossed     Cheeses Pizza    Large (14\")   \n",
       "3    Domino's Pizza         Handmade Pan     Cheeses Pizza   Medium (12\")   \n",
       "4    Domino's Pizza   Crunchy Thin Crust     Cheeses Pizza    Small (10\")   \n",
       "..              ...                  ...               ...            ...   \n",
       "366     IMO's Pizza    BBQ Chicken Pizza  Specialty Pizzas  X Large (16\")   \n",
       "367     IMO's Pizza  Egg-Ceptional Pizza  Specialty Pizzas    Small (10\")   \n",
       "368     IMO's Pizza  Egg-Ceptional Pizza  Specialty Pizzas   Medium (12\")   \n",
       "369     IMO's Pizza  Egg-Ceptional Pizza  Specialty Pizzas    Large (14\")   \n",
       "370     IMO's Pizza  Egg-Ceptional Pizza  Specialty Pizzas  X Large (16\")   \n",
       "\n",
       "      Price  \n",
       "0     $5.99  \n",
       "1     $7.99  \n",
       "2     $9.99  \n",
       "3     $7.99  \n",
       "4     $5.99  \n",
       "..      ...  \n",
       "366  $23.85  \n",
       "367  $11.80  \n",
       "368  $14.95  \n",
       "369  $18.65  \n",
       "370  $22.30  \n",
       "\n",
       "[371 rows x 5 columns]"
      ]
     },
     "execution_count": 2,
     "metadata": {},
     "output_type": "execute_result"
    }
   ],
   "source": [
    "dataset = pd.read_csv('pizza_data.csv')\n",
    "dataset"
   ]
  },
  {
   "cell_type": "code",
   "execution_count": 4,
   "metadata": {
    "scrolled": true
   },
   "outputs": [
    {
     "name": "stdout",
     "output_type": "stream",
     "text": [
      "<class 'pandas.core.frame.DataFrame'>\n",
      "RangeIndex: 371 entries, 0 to 370\n",
      "Data columns (total 5 columns):\n",
      " #   Column      Non-Null Count  Dtype \n",
      "---  ------      --------------  ----- \n",
      " 0   Company     371 non-null    object\n",
      " 1   Pizza Name  371 non-null    object\n",
      " 2   Type        371 non-null    object\n",
      " 3   Size        371 non-null    object\n",
      " 4   Price       371 non-null    object\n",
      "dtypes: object(5)\n",
      "memory usage: 14.6+ KB\n"
     ]
    }
   ],
   "source": [
    "dataset.info()"
   ]
  },
  {
   "cell_type": "code",
   "execution_count": 5,
   "metadata": {},
   "outputs": [
    {
     "data": {
      "text/html": [
       "<div>\n",
       "<style scoped>\n",
       "    .dataframe tbody tr th:only-of-type {\n",
       "        vertical-align: middle;\n",
       "    }\n",
       "\n",
       "    .dataframe tbody tr th {\n",
       "        vertical-align: top;\n",
       "    }\n",
       "\n",
       "    .dataframe thead th {\n",
       "        text-align: right;\n",
       "    }\n",
       "</style>\n",
       "<table border=\"1\" class=\"dataframe\">\n",
       "  <thead>\n",
       "    <tr style=\"text-align: right;\">\n",
       "      <th></th>\n",
       "      <th>Company</th>\n",
       "      <th>Pizza Name</th>\n",
       "      <th>Type</th>\n",
       "      <th>Size</th>\n",
       "      <th>Price</th>\n",
       "    </tr>\n",
       "  </thead>\n",
       "  <tbody>\n",
       "    <tr>\n",
       "      <th>count</th>\n",
       "      <td>371</td>\n",
       "      <td>371</td>\n",
       "      <td>371</td>\n",
       "      <td>371</td>\n",
       "      <td>371</td>\n",
       "    </tr>\n",
       "    <tr>\n",
       "      <th>unique</th>\n",
       "      <td>4</td>\n",
       "      <td>247</td>\n",
       "      <td>9</td>\n",
       "      <td>11</td>\n",
       "      <td>56</td>\n",
       "    </tr>\n",
       "    <tr>\n",
       "      <th>top</th>\n",
       "      <td>Godfather's Pizza</td>\n",
       "      <td>Egg-Ceptional Pizza</td>\n",
       "      <td>Specialty Pizzas</td>\n",
       "      <td>Large</td>\n",
       "      <td>$15.49</td>\n",
       "    </tr>\n",
       "    <tr>\n",
       "      <th>freq</th>\n",
       "      <td>133</td>\n",
       "      <td>4</td>\n",
       "      <td>186</td>\n",
       "      <td>111</td>\n",
       "      <td>50</td>\n",
       "    </tr>\n",
       "  </tbody>\n",
       "</table>\n",
       "</div>"
      ],
      "text/plain": [
       "                  Company           Pizza Name              Type   Size  \\\n",
       "count                 371                  371               371    371   \n",
       "unique                  4                  247                 9     11   \n",
       "top     Godfather's Pizza  Egg-Ceptional Pizza  Specialty Pizzas  Large   \n",
       "freq                  133                    4               186    111   \n",
       "\n",
       "         Price  \n",
       "count      371  \n",
       "unique      56  \n",
       "top     $15.49  \n",
       "freq        50  "
      ]
     },
     "execution_count": 5,
     "metadata": {},
     "output_type": "execute_result"
    }
   ],
   "source": [
    "# Description du dataset\n",
    "\n",
    "dataset.describe()"
   ]
  },
  {
   "cell_type": "code",
   "execution_count": 6,
   "metadata": {},
   "outputs": [
    {
     "data": {
      "text/plain": [
       "(371, 5)"
      ]
     },
     "execution_count": 6,
     "metadata": {},
     "output_type": "execute_result"
    }
   ],
   "source": [
    "# Taille \n",
    "\n",
    "dataset.shape"
   ]
  },
  {
   "cell_type": "markdown",
   "metadata": {},
   "source": [
    "## Visualisation des Types de pizzas"
   ]
  },
  {
   "cell_type": "code",
   "execution_count": 7,
   "metadata": {},
   "outputs": [
    {
     "data": {
      "text/plain": [
       "<AxesSubplot:xlabel='Type', ylabel='count'>"
      ]
     },
     "execution_count": 7,
     "metadata": {},
     "output_type": "execute_result"
    },
    {
     "data": {
      "image/png": "[encoded data removed]",
      "text/plain": [
       "<Figure size 1440x504 with 1 Axes>"
      ]
     },
     "metadata": {
      "needs_background": "light"
     },
     "output_type": "display_data"
    }
   ],
   "source": [
    "plt.figure(figsize=(20,7))\n",
    "sns.countplot(dataset['Type'])"
   ]
  },
  {
   "cell_type": "markdown",
   "metadata": {},
   "source": [
    "## Visualisation des Prix"
   ]
  },
  {
   "cell_type": "code",
   "execution_count": 8,
   "metadata": {},
   "outputs": [
    {
     "data": {
      "text/plain": [
       "<AxesSubplot:xlabel='Price', ylabel='count'>"
      ]
     },
     "execution_count": 8,
     "metadata": {},
     "output_type": "execute_result"
    },
    {
     "data": {
      "image/png": "[encoded data removed]",
      "text/plain": [
       "<Figure size 2520x576 with 1 Axes>"
      ]
     },
     "metadata": {
      "needs_background": "light"
     },
     "output_type": "display_data"
    }
   ],
   "source": [
    "plt.figure(figsize=(35,8))\n",
    "sns.countplot(dataset['Price'])"
   ]
  },
  {
   "cell_type": "markdown",
   "metadata": {},
   "source": [
    "## Conversion de la colonne Price en float"
   ]
  },
  {
   "cell_type": "code",
   "execution_count": 7,
   "metadata": {},
   "outputs": [
    {
     "name": "stderr",
     "output_type": "stream",
     "text": [
      "<ipython-input-7-70e5ab4c9422>:3: FutureWarning: The default value of regex will change from True to False in a future version. In addition, single character regular expressions will *not* be treated as literal strings when regex=True.\n",
      "  dataset['Price'] = dataset['Price'].str.replace('$', \"\")\n"
     ]
    }
   ],
   "source": [
    "# On remplace les '$'\n",
    "\n",
    "dataset['Price'] = dataset['Price'].str.replace('$', \"\")"
   ]
  },
  {
   "cell_type": "code",
   "execution_count": 8,
   "metadata": {},
   "outputs": [],
   "source": [
    "# On transforme la colonne \n",
    "dataset['Price']  = pd.to_numeric(dataset['Price'] ,errors='coerce')"
   ]
  },
  {
   "cell_type": "code",
   "execution_count": 9,
   "metadata": {},
   "outputs": [
    {
     "data": {
      "text/plain": [
       "4.29"
      ]
     },
     "execution_count": 9,
     "metadata": {},
     "output_type": "execute_result"
    }
   ],
   "source": [
    "# Prix minimal\n",
    "dataset['Price'].min()"
   ]
  },
  {
   "cell_type": "code",
   "execution_count": 10,
   "metadata": {},
   "outputs": [
    {
     "data": {
      "text/plain": [
       "29.99"
      ]
     },
     "execution_count": 10,
     "metadata": {},
     "output_type": "execute_result"
    }
   ],
   "source": [
    "# Prix maximal\n",
    "dataset['Price'].max()"
   ]
  },
  {
   "cell_type": "code",
   "execution_count": 11,
   "metadata": {},
   "outputs": [
    {
     "name": "stdout",
     "output_type": "stream",
     "text": [
      "<class 'pandas.core.frame.DataFrame'>\n",
      "RangeIndex: 371 entries, 0 to 370\n",
      "Data columns (total 5 columns):\n",
      " #   Column      Non-Null Count  Dtype  \n",
      "---  ------      --------------  -----  \n",
      " 0   Company     371 non-null    object \n",
      " 1   Pizza Name  371 non-null    object \n",
      " 2   Type        371 non-null    object \n",
      " 3   Size        371 non-null    object \n",
      " 4   Price       371 non-null    float64\n",
      "dtypes: float64(1), object(4)\n",
      "memory usage: 14.6+ KB\n"
     ]
    }
   ],
   "source": [
    "# Le type a bien été changé\n",
    "dataset.info()"
   ]
  },
  {
   "cell_type": "code",
   "execution_count": 12,
   "metadata": {},
   "outputs": [
    {
     "data": {
      "text/plain": [
       "array([ 5.99,  7.99,  9.99, 11.99,  8.99, 13.99, 15.99, 17.99, 14.99,\n",
       "       15.49,  8.49, 10.49,  4.29, 12.49,  4.79, 17.49, 13.49, 16.49,\n",
       "        5.29, 18.49,  4.99, 10.99, 12.99, 18.99, 19.99, 22.24, 23.99,\n",
       "       27.99, 26.23, 16.99, 21.99, 22.49, 25.99, 26.49, 29.99, 20.99,\n",
       "       24.99, 28.99, 12.69, 15.34, 15.24, 18.69, 18.74, 12.7 , 16.2 ,\n",
       "       19.95, 23.85,  9.3 , 11.6 , 14.45, 17.35, 19.2 , 11.8 , 14.95,\n",
       "       18.65, 22.3 ])"
      ]
     },
     "execution_count": 12,
     "metadata": {},
     "output_type": "execute_result"
    }
   ],
   "source": [
    "dataset['Price'].unique()"
   ]
  },
  {
   "cell_type": "code",
   "execution_count": 13,
   "metadata": {},
   "outputs": [
    {
     "data": {
      "text/plain": [
       "56"
      ]
     },
     "execution_count": 13,
     "metadata": {},
     "output_type": "execute_result"
    }
   ],
   "source": [
    "# il y a 56 prix différents\n",
    "dataset.Price.nunique()"
   ]
  },
  {
   "cell_type": "code",
   "execution_count": 14,
   "metadata": {},
   "outputs": [
    {
     "data": {
      "text/plain": [
       "16.319326145552452"
      ]
     },
     "execution_count": 14,
     "metadata": {},
     "output_type": "execute_result"
    }
   ],
   "source": [
    "# On calcule la moyenne des prix\n",
    "dataset.Price.mean()"
   ]
  },
  {
   "cell_type": "markdown",
   "metadata": {},
   "source": [
    "Le prix moyen d'une pizza est de 16$."
   ]
  },
  {
   "cell_type": "markdown",
   "metadata": {},
   "source": [
    "### Visualisation de la nouvelle colonne 'Price'"
   ]
  },
  {
   "cell_type": "code",
   "execution_count": 17,
   "metadata": {},
   "outputs": [
    {
     "data": {
      "text/plain": [
       "<AxesSubplot:xlabel='Price', ylabel='count'>"
      ]
     },
     "execution_count": 17,
     "metadata": {},
     "output_type": "execute_result"
    },
    {
     "data": {
      "image/png": "[encoded data removed]",
      "text/plain": [
       "<Figure size 2520x576 with 1 Axes>"
      ]
     },
     "metadata": {
      "needs_background": "light"
     },
     "output_type": "display_data"
    }
   ],
   "source": [
    "plt.figure(figsize=(35,8))\n",
    "sns.countplot(dataset['Price'])"
   ]
  },
  {
   "cell_type": "markdown",
   "metadata": {},
   "source": [
    "## Visualisation des Compagnies"
   ]
  },
  {
   "cell_type": "code",
   "execution_count": 11,
   "metadata": {},
   "outputs": [
    {
     "data": {
      "text/plain": [
       "<AxesSubplot:xlabel='Company', ylabel='count'>"
      ]
     },
     "execution_count": 11,
     "metadata": {},
     "output_type": "execute_result"
    },
    {
     "data": {
      "image/png": "[encoded data removed]",
      "text/plain": [
       "<Figure size 1440x504 with 1 Axes>"
      ]
     },
     "metadata": {
      "needs_background": "light"
     },
     "output_type": "display_data"
    }
   ],
   "source": [
    "plt.figure(figsize=(20,7))\n",
    "sns.countplot(dataset['Company'])"
   ]
  },
  {
   "cell_type": "markdown",
   "metadata": {},
   "source": [
    "## Visualisation des Noms des pizzas"
   ]
  },
  {
   "cell_type": "code",
   "execution_count": 33,
   "metadata": {},
   "outputs": [
    {
     "data": {
      "text/plain": [
       "<AxesSubplot:xlabel='Pizza Name', ylabel='count'>"
      ]
     },
     "execution_count": 33,
     "metadata": {},
     "output_type": "execute_result"
    },
    {
     "data": {
      "image/png": "[encoded data removed]",
      "text/plain": [
       "<Figure size 3600x1800 with 1 Axes>"
      ]
     },
     "metadata": {
      "needs_background": "light"
     },
     "output_type": "display_data"
    }
   ],
   "source": [
    "plt.figure(figsize=(50,25))\n",
    "sns.countplot(dataset['Pizza Name'])"
   ]
  },
  {
   "cell_type": "markdown",
   "metadata": {},
   "source": [
    "## Les noms des Pizzas\n",
    "\n",
    "Il y a 247 noms de pizzas différents."
   ]
  },
  {
   "cell_type": "code",
   "execution_count": 22,
   "metadata": {},
   "outputs": [
    {
     "data": {
      "text/plain": [
       "array(['Hand Tossed', 'Handmade Pan', 'Crunchy Thin Crust',\n",
       "       'Brooklyn Style', 'Gluten Free Crust',\n",
       "       'Spinach & Feta (Hand Tossed or Thin Crust)',\n",
       "       'Spinach & Feta (Hand Tossed, Handmade Pan or Thin Crust)',\n",
       "       'Spinach & Feta (Hand Tossed, Thin Crust or Brooklyn Style)',\n",
       "       'Spinach & Feta (Brooklyn Style)',\n",
       "       'Spinach & Feta (Gluten Free Crust)',\n",
       "       'Wisconsin 6 Cheese (Hand Tossed or Thin Crust)',\n",
       "       'Wisconsin 6 Cheese (Hand Tossed, Handmade Pan or Thin Crust)',\n",
       "       'Wisconsin 6 Cheese (Hand Tossed, Thin Crust or Brooklyn Style)',\n",
       "       'Wisconsin 6 Cheese (Brooklyn Style)',\n",
       "       'Wisconsin 6 Cheese (Gluten Free Crust)',\n",
       "       'Honolulu Hawaiian (Hand Tossed or Thin Crust)',\n",
       "       'Honolulu Hawaiian (Hand Tossed, Handmade Pan or Thin Crust)',\n",
       "       'Honolulu Hawaiian (Hand Tossed, Thin Crust or Brooklyn Style)',\n",
       "       'Honolulu Hawaiian (Brooklyn Style)',\n",
       "       'Honolulu Hawaiian (Gluten Free Crust)',\n",
       "       'Philly Cheese Steak (Hand Tossed or Thin Crust)',\n",
       "       'Philly Cheese Steak (Hand Tossed, Handmade Pan or Thin Crust)',\n",
       "       'Philly Cheese Steak (Hand Tossed, Thin Crust or Brooklyn Style)',\n",
       "       'Philly Cheese Steak (Brooklyn Style)',\n",
       "       'Philly Cheese Steak (Gluten Free Crust)',\n",
       "       'Pacific Veggie (Hand Tossed or Thin Crust)',\n",
       "       'Pacific Veggie (Hand Tossed, Handmade Pan or Thin Crust)',\n",
       "       'Pacific Veggie (Hand Tossed, Thin Crust or Brooklyn Style)',\n",
       "       'Pacific Veggie (Brooklyn Style)',\n",
       "       'Pacific Veggie (Gluten Free Crust)',\n",
       "       'Cali Chicken Bacon Ranch™ (Hand Tossed or Thin Crust)',\n",
       "       'Cali Chicken Bacon Ranch™ (Hand Tossed, Handmade Pan or Thin Crust)',\n",
       "       'Cali Chicken Bacon Ranch™ (Hand Tossed, Thin Crust or Brooklyn Style)',\n",
       "       'Cali Chicken Bacon Ranch™ (Brooklyn Style)',\n",
       "       'Cali Chicken Bacon Ranch™ (Gluten Free Crust)',\n",
       "       'Fiery Hawaiian™ (Hand Tossed or Thin Crust)',\n",
       "       'Fiery Hawaiian™ (Hand Tossed, Handmade Pan or Thin Crust)',\n",
       "       'Fiery Hawaiian™ (Hand Tossed, Thin Crust or Brooklyn Style)',\n",
       "       'Fiery Hawaiian™ (Brooklyn Style)',\n",
       "       'Fiery Hawaiian™ (Gluten Free Crust)',\n",
       "       'Buffalo Chicken (Hand Tossed or Thin Crust)',\n",
       "       'Buffalo Chicken (Hand Tossed, Handmade Pan or Thin Crust)',\n",
       "       'Buffalo Chicken (Hand Tossed, Thin Crust or Brooklyn Style)',\n",
       "       'Buffalo Chicken (Brooklyn Style)',\n",
       "       'Buffalo Chicken (Gluten Free Crust)',\n",
       "       'Memphis BBQ Chicken (Hand Tossed or Thin Crust)',\n",
       "       'Memphis BBQ Chicken (Hand Tossed, Hnadmade Pan or Thin Crust)',\n",
       "       'Memphis BBQ Chicken (Hand Tossed, Thin Crust or Brooklyn Style)',\n",
       "       'Memphis BBQ Chicken (Brooklyn Style)',\n",
       "       'Memphis BBQ Chicken (Gluten Free Crust)',\n",
       "       \"America's Favorite Feast® (Hand Tossed or Thin Crust)\",\n",
       "       \"America's Favorite Feast® (Handmade Pan)\",\n",
       "       \"America's Favorite Feast® (Hand Tossed, Thin Crust or Brooklyn Style)\",\n",
       "       \"America's Favorite Feast® (Brooklyn Style)\",\n",
       "       \"America's Favorite Feast® (Gluten Free Crust)\",\n",
       "       'Bacon Cheeseburger Feast® (Hand Tossed or Thin Crust)',\n",
       "       'Bacon Cheeseburger Feast® (Handmade Pan)',\n",
       "       'Bacon Cheeseburger Feast® (Hand Tossed, Thin Crust or Brooklyn Style)',\n",
       "       'Bacon Cheeseburger Feast® (Brooklyn Style)',\n",
       "       'Bacon Cheeseburger Feast® (Gluten Free Crust)',\n",
       "       'Deluxe Feast® (Hand Tossed or Thin Crust)',\n",
       "       'Deluxe Feast® (Handmade Pan)',\n",
       "       'Deluxe Feast® (Hand Tossed, Thin Crust or Brooklyn Style)',\n",
       "       'Deluxe Feast® (Brooklyn Style)',\n",
       "       'Deluxe Feast® (Gluten Free Crust)',\n",
       "       'ExtravaganZZa Feast® (Hand Tossed or Thin Crust)',\n",
       "       'ExtravaganZZa Feast® (Hand Tossed, Handmade Pan or Thin Crust)',\n",
       "       'ExtravaganZZa Feast® (Hand Tossed, Thin Crust or Brooklyn Style)',\n",
       "       'ExtravaganZZa Feast® (Brooklyn Style)',\n",
       "       'ExtravaganZZa Feast® (Gluten Free Crust)',\n",
       "       'MeatZZa Feast® (Hand Tossed or Thin Crust)',\n",
       "       'MeatZZa Feast® (Hand Tossed, Handmade Pan or Thin Crust)',\n",
       "       'MeatZZa Feast® (Hand Tossed, Thin Crust or Brooklyn Style)',\n",
       "       'MeatZZa Feast® (Brooklyn Style)',\n",
       "       'MeatZZa Feast® (Gluten Free Crust)',\n",
       "       'Ultimate Pepperoni Feast™ (Hand Tossed or Thin Crust)',\n",
       "       'Ultimate Pepperoni Feast™ (Hand Tossed, Handmade Pan or Thin Crust)',\n",
       "       'Ultimate Pepperoni Feast™ (Hand Tossed, Thin Crust or Brooklyn Style)',\n",
       "       'Ultimate Pepperoni Feast™ (Brooklyn Style)',\n",
       "       'Ultimate Pepperoni Feast™ (Gluten Free Crust)', 'Hand-Tossed',\n",
       "       'Pan Pizza', 'Thin N Crispy', 'Stuffed Crust', 'Skinny Slice',\n",
       "       \"Pepperoni Lover's® Pizza (Hand-Tossed)\",\n",
       "       \"Pepperoni Lover's® Pizza (Pan Pizza)\",\n",
       "       \"Pepperoni Lover's® Pizza (Thin N Crispy)\",\n",
       "       \"Pepperoni Lover's® Pizza (Stuffed Crust)\",\n",
       "       \"Pepperoni Lover's® Pizza (Skinny Slice)\",\n",
       "       \"Meat Lover's® Pizza (Hand-Tossed)\",\n",
       "       \"Meat Lover's® Pizza (Pan Pizza)\",\n",
       "       \"Meat Lover's® Pizza (Thin N Crispy)\",\n",
       "       \"Meat Lover's® Pizza (Stuffed Crust)\",\n",
       "       \"Meat Lover's® Pizza (Skinny Slice)\",\n",
       "       \"Ultimate Cheese Lover's Pizza (Hand-Tossed)\",\n",
       "       \"Ultimate Cheese Lover's Pizza (Pan Pizza)\",\n",
       "       \"Ultimate Cheese Lover's Pizza (Thin N Crispy)\",\n",
       "       \"Ultimate Cheese Lover's Pizza (Stuffed Crust)\",\n",
       "       \"Ultimate Cheese Lover's Pizza (Skinny Slice)\",\n",
       "       \"Veggie Lover's® Pizza (Hand-Tossed)\",\n",
       "       \"Veggie Lover's® Pizza (Pan Pizza)\",\n",
       "       \"Veggie Lover's® Pizza (Thin N Crispy)\",\n",
       "       \"Veggie Lover's® Pizza (Stuffed Crust)\",\n",
       "       \"Veggie Lover's® Pizza (Skinny Slice)\",\n",
       "       'Supreme Pizza (Hand-Tossed)', 'Supreme Pizza (Pan Pizza)',\n",
       "       'Supreme Pizza (Thin N Crispy)', 'Supreme Pizza (Stuffed Crust)',\n",
       "       'Supreme Pizza (Skinny Slice)', \"BBQ Lover's™ (Hand-Tossed)\",\n",
       "       \"BBQ Lover's™ (Pan Pizza)\", \"BBQ Lover's™ (Thin N Crispy)\",\n",
       "       \"BBQ Lover's™ (Stuffed Crust)\", \"BBQ Lover's™ (Skinny Slice)\",\n",
       "       'Chicken Supreme Pizza (Hand-Tossed)',\n",
       "       'Chicken Supreme Pizza (Pan Pizza)',\n",
       "       'Chicken Supreme Pizza (Thin N Crispy)',\n",
       "       'Chicken Supreme Pizza (Stuffed Crust)',\n",
       "       'Chicken Supreme Pizza (Skinny Slice)',\n",
       "       'New Primo Meat Pizza (Hand-Tossed)',\n",
       "       'New Primo Meat Pizza (Pan Pizza)',\n",
       "       'New Primo Meat Pizza (Thin N Crispy)',\n",
       "       'New Primo Meat Pizza (Stuffed Crust)',\n",
       "       'New Primo Meat Pizza (Skinny Slice)',\n",
       "       'Hawaiian Luau (Hand-Tossed)', 'Hawaiian Luau (Pan Pizza)',\n",
       "       'Hawaiian Luau (Thin N Crispy)', 'Hawaiian Luau (Stuffed Crust)',\n",
       "       'Hawaiian Luau (Skinny Slice)',\n",
       "       'Super Supreme Pizza (Hand-Tossed)',\n",
       "       'Super Supreme Pizza (Pan Pizza)',\n",
       "       'Super Supreme Pizza (Thin N Crispy)',\n",
       "       'Super Supreme Pizza (Stuffed Crust)',\n",
       "       'Super Supreme Pizza (Skinny Slice)',\n",
       "       'Garden Party™ (Thin N Crispy)',\n",
       "       'Old Fashioned Meatbrawl™ (Pan Pizza)',\n",
       "       'Cock-a-doodle Bacon™ (Hand-Tossed)',\n",
       "       'Hot and Twisted™ (Hand-Tossed)', 'Pretzel Piggy™ (Hand-Tossed)',\n",
       "       'BBQ Bacon Cheeseburger (Hand-Tossed)',\n",
       "       'Giddy-Up BBQ Chicken™ (Hand-Tossed)',\n",
       "       'Buffalo State of Mind™ (Hand-Tossed)',\n",
       "       'Cherry Pepper Bombshell™ (Thin N Crispy)',\n",
       "       '7-Alarm Fire™ (Hand-Tossed)', 'Skinny Beach™ (Skinny Slice)',\n",
       "       'Skinny With A Kick™ (Skinny Slice)',\n",
       "       'Skinny Italy (Skinny Slice)', 'Skinny Luau™ (Skinny Slice)',\n",
       "       'Skinny Club™ (Skinny Slice)',\n",
       "       'Create Your Own (Gluten-Free Crust)', 'Cheese (Original Crust)',\n",
       "       'Cheese (Original or Golden Crust)',\n",
       "       'Cheese (Original, Golden or Thin Crust)',\n",
       "       'Cheese (Mozza-Loaded Crust)', 'Cheese (Original or Thin Crust)',\n",
       "       'All-Meat Combo Pizza (Original Crust)',\n",
       "       'All-Meat Combo Pizza (Original or Golden Crust)',\n",
       "       'All-Meat Combo Pizza (Original, Golden or Thin Crust)',\n",
       "       'All-Meat Combo Pizza (Mozza-Loaded Crust)',\n",
       "       'Bacon Cheeseburger Pizza (Original Crust)',\n",
       "       'Bacon Cheeseburger Pizza (Original or Golden Crust)',\n",
       "       'Bacon Cheeseburger Pizza (Original, Golden or Thin Crust)',\n",
       "       'Bacon Cheeseburger Pizza (Mozza-Loaded Crust)',\n",
       "       'Bacon Cheeseburger Pizza (Original or Thin Crust)',\n",
       "       'Taco Pie Pizza (Original Crust)',\n",
       "       'Taco Pie Pizza (Original or Golden Crust)',\n",
       "       'Taco Pie Pizza (Original, Golden or Thin Crust)',\n",
       "       'Taco Pie Pizza (Mozza-Loaded Crust)',\n",
       "       'Taco Pie Pizza (Original or Thin Crust)',\n",
       "       'Classic Combo Pizza (Original Crust)',\n",
       "       'Classic Combo Pizza (Original or Golden Crust)',\n",
       "       'Classic Combo Pizza (Original, Golden or Thin Crust)',\n",
       "       'Classic Combo Pizza (Mozza-Loaded Crust)',\n",
       "       'Classic Combo Pizza (Original or Thin Crust)',\n",
       "       'Humble Pie Pizza (Original Crust)',\n",
       "       'Humble Pie Pizza (Original or Golden Crust)',\n",
       "       'Humble Pie Pizza (Original, Golden or Thin Crust)',\n",
       "       'Humble Pie Pizza (Mozza-Loaded Crust)',\n",
       "       'Humble Pie Pizza (Original or Thin Crust)',\n",
       "       'Veggie Pie Pizza (Original Crust)',\n",
       "       'Veggie Pie Pizza (Original or Golden Crust)',\n",
       "       'Veggie Pie Pizza (Original, Golden or Thin Crust)',\n",
       "       'Veggie Pie Pizza (Mozza-Loaded Crust)',\n",
       "       'Veggie Pie Pizza (Original or Thin Crust)',\n",
       "       'Hot Stuff Pizza (Original Crust)',\n",
       "       'Hot Stuff Pizza (Original or Golden Crust)',\n",
       "       'Hot Stuff Pizza (Original, Golden or Thin Crust)',\n",
       "       'Hot Stuff Pizza (Mozza-Loaded Crust)',\n",
       "       'Hot Stuff Pizza (Original or Thin Crust)',\n",
       "       'Hawaiian Pizza (Original Crust)',\n",
       "       'Hawaiian Pizza (Original or Golden Crust)',\n",
       "       'Hawaiian Pizza (Original, Golden or Thin Crust)',\n",
       "       'Hawaiian Pizza (Mozza-Loaded Crust)',\n",
       "       'Hawaiian Pizza (Original or Thin Crust)',\n",
       "       'BLT Pizza (Original Crust)',\n",
       "       'BLT Pizza (Original or Golden Crust)',\n",
       "       'BLT Pizza (Original, Golden or Thin Crust)',\n",
       "       'BLT Pizza (Mozza-Loaded Crust)',\n",
       "       'BLT Pizza (Original or Thin Crust)',\n",
       "       'Buffalo Chicken Pizza (Original Crust)',\n",
       "       'Buffalo Chicken Pizza (Original or Golden Crust)',\n",
       "       'Buffalo Chicken Pizza (Original, Golden or Thin Crust)',\n",
       "       'Buffalo Chicken Pizza (Mozza-Loaded Crust)',\n",
       "       'Buffalo Chicken Pizza (Original or Thin Crust)',\n",
       "       'Super Combo Pizza (Original or Golden Crust)',\n",
       "       'Super Combo Pizza (Original, Golden or Thin Crust)',\n",
       "       'Super Combo Pizza (Mozza-Loaded Crust)',\n",
       "       'Super Combo Pizza (Original or Thin Crust)',\n",
       "       'Super Hawaiian Pizza (Original or Golden Crust)',\n",
       "       'Super Hawaiian Pizza (Original, Golden or Thin Crust)',\n",
       "       'Super Hawaiian Pizza (Mozza-Loaded Crust)',\n",
       "       'Super Hawaiian Pizza (Original or Thin Crust)',\n",
       "       'Super Taco Pizza (Original or Golden Crust)',\n",
       "       'Super Taco Pizza (Original, Golden or Thin Crust)',\n",
       "       'Super Taco Pizza (Mozza-Loaded Crust)',\n",
       "       'Super Taco Pizza (Original or Thin Crust)',\n",
       "       'The Don (Original or Golden Crust)',\n",
       "       'The Don (Original, Golden or Thin Crust)',\n",
       "       'The Don (Mozza-Loaded Crust)', 'The Don (Original or Thin Crust)',\n",
       "       'Super Veggie Pizza (Original or Golden Crust)',\n",
       "       'Super Veggie Pizza (Original, Golden or Thin Crust)',\n",
       "       'Super Veggie Pizza (Mozza-Loaded Crust)',\n",
       "       'Super Veggie Pizza (Original or Thin Crust)',\n",
       "       'BBQ Bacon Cheeseburger Pizza (Original Crust)',\n",
       "       'BBQ Bacon Cheeseburger Pizza (Original, Golden or Thin Crust)',\n",
       "       'BBQ Bacon Cheeseburger Pizza (Mozza-Loaded Crust)',\n",
       "       'Chipotle Chicken and Bacon Pizza (Original Crust)',\n",
       "       'Chipotle Chicken and Bacon Pizza (Original, Golden or Thin Crust)',\n",
       "       'Chipotle Chicken and Bacon Pizza (Mozza-Loaded Crust)',\n",
       "       'Margherita Pizza (Original, Golden or Thin Crust)',\n",
       "       'Margherita Pizza (Thin Crust)',\n",
       "       'Margherita Chicken Pizza (Original, Golden or Thin Crust)',\n",
       "       'Margherita Chicken Pizza (Thin Crust)', 'Thin Crust',\n",
       "       'Original Crust', 'Original or Golden Crust',\n",
       "       'Original, Golden or Thin Crust', 'Mozza-Loaded Crust',\n",
       "       'Original or Thin Crust', 'Deluxe Pizza', 'Veggie Pizza',\n",
       "       'Cheese Pizza', 'All Meat Pizza', 'BBQ Chicken Pizza',\n",
       "       'Egg-Ceptional Pizza'], dtype=object)"
      ]
     },
     "execution_count": 22,
     "metadata": {},
     "output_type": "execute_result"
    }
   ],
   "source": [
    "# Voir la liste des noms\n",
    "\n",
    "dataset['Pizza Name'].unique()"
   ]
  },
  {
   "cell_type": "code",
   "execution_count": 15,
   "metadata": {},
   "outputs": [
    {
     "data": {
      "text/plain": [
       "247"
      ]
     },
     "execution_count": 15,
     "metadata": {},
     "output_type": "execute_result"
    }
   ],
   "source": [
    "# Total des noms de pizzas différents. ( voir également dataset.describe() )\n",
    "\n",
    "dataset['Pizza Name'].nunique()"
   ]
  },
  {
   "cell_type": "markdown",
   "metadata": {},
   "source": [
    "---"
   ]
  },
  {
   "cell_type": "markdown",
   "metadata": {},
   "source": [
    "## Enregistrement des modifications et création d'un nouveau fichier csv"
   ]
  },
  {
   "cell_type": "code",
   "execution_count": 65,
   "metadata": {},
   "outputs": [],
   "source": [
    "df = dataset.to_csv('df_pizza.csv', index=False)"
   ]
  },
  {
   "cell_type": "code",
   "execution_count": 3,
   "metadata": {},
   "outputs": [],
   "source": [
    "df = pd.read_csv('df_pizza.csv')"
   ]
  },
  {
   "cell_type": "code",
   "execution_count": 70,
   "metadata": {},
   "outputs": [
    {
     "name": "stdout",
     "output_type": "stream",
     "text": [
      "<class 'pandas.core.frame.DataFrame'>\n",
      "RangeIndex: 371 entries, 0 to 370\n",
      "Data columns (total 5 columns):\n",
      " #   Column      Non-Null Count  Dtype  \n",
      "---  ------      --------------  -----  \n",
      " 0   Company     371 non-null    object \n",
      " 1   Pizza Name  371 non-null    object \n",
      " 2   Type        371 non-null    object \n",
      " 3   Size        371 non-null    object \n",
      " 4   Price       371 non-null    float64\n",
      "dtypes: float64(1), object(4)\n",
      "memory usage: 14.6+ KB\n"
     ]
    }
   ],
   "source": [
    "df.info()"
   ]
  },
  {
   "cell_type": "code",
   "execution_count": 72,
   "metadata": {},
   "outputs": [
    {
     "data": {
      "text/html": [
       "<div>\n",
       "<style scoped>\n",
       "    .dataframe tbody tr th:only-of-type {\n",
       "        vertical-align: middle;\n",
       "    }\n",
       "\n",
       "    .dataframe tbody tr th {\n",
       "        vertical-align: top;\n",
       "    }\n",
       "\n",
       "    .dataframe thead th {\n",
       "        text-align: right;\n",
       "    }\n",
       "</style>\n",
       "<table border=\"1\" class=\"dataframe\">\n",
       "  <thead>\n",
       "    <tr style=\"text-align: right;\">\n",
       "      <th></th>\n",
       "      <th>Company</th>\n",
       "      <th>Pizza Name</th>\n",
       "      <th>Type</th>\n",
       "      <th>Size</th>\n",
       "      <th>Price</th>\n",
       "    </tr>\n",
       "  </thead>\n",
       "  <tbody>\n",
       "    <tr>\n",
       "      <th>0</th>\n",
       "      <td>Domino's Pizza</td>\n",
       "      <td>Hand Tossed</td>\n",
       "      <td>Cheeses Pizza</td>\n",
       "      <td>Small (10\")</td>\n",
       "      <td>5.99</td>\n",
       "    </tr>\n",
       "    <tr>\n",
       "      <th>1</th>\n",
       "      <td>Domino's Pizza</td>\n",
       "      <td>Hand Tossed</td>\n",
       "      <td>Cheeses Pizza</td>\n",
       "      <td>Medium (12\")</td>\n",
       "      <td>7.99</td>\n",
       "    </tr>\n",
       "    <tr>\n",
       "      <th>2</th>\n",
       "      <td>Domino's Pizza</td>\n",
       "      <td>Hand Tossed</td>\n",
       "      <td>Cheeses Pizza</td>\n",
       "      <td>Large (14\")</td>\n",
       "      <td>9.99</td>\n",
       "    </tr>\n",
       "    <tr>\n",
       "      <th>3</th>\n",
       "      <td>Domino's Pizza</td>\n",
       "      <td>Handmade Pan</td>\n",
       "      <td>Cheeses Pizza</td>\n",
       "      <td>Medium (12\")</td>\n",
       "      <td>7.99</td>\n",
       "    </tr>\n",
       "    <tr>\n",
       "      <th>4</th>\n",
       "      <td>Domino's Pizza</td>\n",
       "      <td>Crunchy Thin Crust</td>\n",
       "      <td>Cheeses Pizza</td>\n",
       "      <td>Small (10\")</td>\n",
       "      <td>5.99</td>\n",
       "    </tr>\n",
       "  </tbody>\n",
       "</table>\n",
       "</div>"
      ],
      "text/plain": [
       "          Company          Pizza Name           Type          Size  Price\n",
       "0  Domino's Pizza         Hand Tossed  Cheeses Pizza   Small (10\")   5.99\n",
       "1  Domino's Pizza         Hand Tossed  Cheeses Pizza  Medium (12\")   7.99\n",
       "2  Domino's Pizza         Hand Tossed  Cheeses Pizza   Large (14\")   9.99\n",
       "3  Domino's Pizza        Handmade Pan  Cheeses Pizza  Medium (12\")   7.99\n",
       "4  Domino's Pizza  Crunchy Thin Crust  Cheeses Pizza   Small (10\")   5.99"
      ]
     },
     "execution_count": 72,
     "metadata": {},
     "output_type": "execute_result"
    }
   ],
   "source": [
    "df.head()"
   ]
  },
  {
   "cell_type": "markdown",
   "metadata": {},
   "source": [
    "---"
   ]
  },
  {
   "cell_type": "markdown",
   "metadata": {},
   "source": [
    "# <center>Modification du csv</center>"
   ]
  },
  {
   "cell_type": "markdown",
   "metadata": {},
   "source": [
    "## Chargement du csv"
   ]
  },
  {
   "cell_type": "code",
   "execution_count": 268,
   "metadata": {},
   "outputs": [
    {
     "data": {
      "text/html": [
       "<div>\n",
       "<style scoped>\n",
       "    .dataframe tbody tr th:only-of-type {\n",
       "        vertical-align: middle;\n",
       "    }\n",
       "\n",
       "    .dataframe tbody tr th {\n",
       "        vertical-align: top;\n",
       "    }\n",
       "\n",
       "    .dataframe thead th {\n",
       "        text-align: right;\n",
       "    }\n",
       "</style>\n",
       "<table border=\"1\" class=\"dataframe\">\n",
       "  <thead>\n",
       "    <tr style=\"text-align: right;\">\n",
       "      <th></th>\n",
       "      <th>Company</th>\n",
       "      <th>Pizza Name</th>\n",
       "      <th>Type</th>\n",
       "      <th>Size</th>\n",
       "      <th>Price</th>\n",
       "    </tr>\n",
       "  </thead>\n",
       "  <tbody>\n",
       "    <tr>\n",
       "      <th>0</th>\n",
       "      <td>Domino's Pizza</td>\n",
       "      <td>Hand Tossed</td>\n",
       "      <td>Cheeses Pizza</td>\n",
       "      <td>Small (10\")</td>\n",
       "      <td>5.99</td>\n",
       "    </tr>\n",
       "    <tr>\n",
       "      <th>1</th>\n",
       "      <td>Domino's Pizza</td>\n",
       "      <td>Hand Tossed</td>\n",
       "      <td>Cheeses Pizza</td>\n",
       "      <td>Medium (12\")</td>\n",
       "      <td>7.99</td>\n",
       "    </tr>\n",
       "    <tr>\n",
       "      <th>2</th>\n",
       "      <td>Domino's Pizza</td>\n",
       "      <td>Hand Tossed</td>\n",
       "      <td>Cheeses Pizza</td>\n",
       "      <td>Large (14\")</td>\n",
       "      <td>9.99</td>\n",
       "    </tr>\n",
       "    <tr>\n",
       "      <th>3</th>\n",
       "      <td>Domino's Pizza</td>\n",
       "      <td>Handmade Pan</td>\n",
       "      <td>Cheeses Pizza</td>\n",
       "      <td>Medium (12\")</td>\n",
       "      <td>7.99</td>\n",
       "    </tr>\n",
       "    <tr>\n",
       "      <th>4</th>\n",
       "      <td>Domino's Pizza</td>\n",
       "      <td>Crunchy Thin Crust</td>\n",
       "      <td>Cheeses Pizza</td>\n",
       "      <td>Small (10\")</td>\n",
       "      <td>5.99</td>\n",
       "    </tr>\n",
       "    <tr>\n",
       "      <th>...</th>\n",
       "      <td>...</td>\n",
       "      <td>...</td>\n",
       "      <td>...</td>\n",
       "      <td>...</td>\n",
       "      <td>...</td>\n",
       "    </tr>\n",
       "    <tr>\n",
       "      <th>366</th>\n",
       "      <td>IMO's Pizza</td>\n",
       "      <td>BBQ Chicken Pizza</td>\n",
       "      <td>Specialty Pizzas</td>\n",
       "      <td>X Large (16\")</td>\n",
       "      <td>23.85</td>\n",
       "    </tr>\n",
       "    <tr>\n",
       "      <th>367</th>\n",
       "      <td>IMO's Pizza</td>\n",
       "      <td>Egg-Ceptional Pizza</td>\n",
       "      <td>Specialty Pizzas</td>\n",
       "      <td>Small (10\")</td>\n",
       "      <td>11.80</td>\n",
       "    </tr>\n",
       "    <tr>\n",
       "      <th>368</th>\n",
       "      <td>IMO's Pizza</td>\n",
       "      <td>Egg-Ceptional Pizza</td>\n",
       "      <td>Specialty Pizzas</td>\n",
       "      <td>Medium (12\")</td>\n",
       "      <td>14.95</td>\n",
       "    </tr>\n",
       "    <tr>\n",
       "      <th>369</th>\n",
       "      <td>IMO's Pizza</td>\n",
       "      <td>Egg-Ceptional Pizza</td>\n",
       "      <td>Specialty Pizzas</td>\n",
       "      <td>Large (14\")</td>\n",
       "      <td>18.65</td>\n",
       "    </tr>\n",
       "    <tr>\n",
       "      <th>370</th>\n",
       "      <td>IMO's Pizza</td>\n",
       "      <td>Egg-Ceptional Pizza</td>\n",
       "      <td>Specialty Pizzas</td>\n",
       "      <td>X Large (16\")</td>\n",
       "      <td>22.30</td>\n",
       "    </tr>\n",
       "  </tbody>\n",
       "</table>\n",
       "<p>371 rows × 5 columns</p>\n",
       "</div>"
      ],
      "text/plain": [
       "            Company           Pizza Name              Type           Size  \\\n",
       "0    Domino's Pizza          Hand Tossed     Cheeses Pizza    Small (10\")   \n",
       "1    Domino's Pizza          Hand Tossed     Cheeses Pizza   Medium (12\")   \n",
       "2    Domino's Pizza          Hand Tossed     Cheeses Pizza    Large (14\")   \n",
       "3    Domino's Pizza         Handmade Pan     Cheeses Pizza   Medium (12\")   \n",
       "4    Domino's Pizza   Crunchy Thin Crust     Cheeses Pizza    Small (10\")   \n",
       "..              ...                  ...               ...            ...   \n",
       "366     IMO's Pizza    BBQ Chicken Pizza  Specialty Pizzas  X Large (16\")   \n",
       "367     IMO's Pizza  Egg-Ceptional Pizza  Specialty Pizzas    Small (10\")   \n",
       "368     IMO's Pizza  Egg-Ceptional Pizza  Specialty Pizzas   Medium (12\")   \n",
       "369     IMO's Pizza  Egg-Ceptional Pizza  Specialty Pizzas    Large (14\")   \n",
       "370     IMO's Pizza  Egg-Ceptional Pizza  Specialty Pizzas  X Large (16\")   \n",
       "\n",
       "     Price  \n",
       "0     5.99  \n",
       "1     7.99  \n",
       "2     9.99  \n",
       "3     7.99  \n",
       "4     5.99  \n",
       "..     ...  \n",
       "366  23.85  \n",
       "367  11.80  \n",
       "368  14.95  \n",
       "369  18.65  \n",
       "370  22.30  \n",
       "\n",
       "[371 rows x 5 columns]"
      ]
     },
     "execution_count": 268,
     "metadata": {},
     "output_type": "execute_result"
    }
   ],
   "source": [
    "# il faut charger ici le csv où la colonne price a été modifiée en float.\n",
    "df = pd.read_csv('df_pizza.csv')\n",
    "df"
   ]
  },
  {
   "cell_type": "code",
   "execution_count": 269,
   "metadata": {},
   "outputs": [
    {
     "name": "stdout",
     "output_type": "stream",
     "text": [
      "<class 'pandas.core.frame.DataFrame'>\n",
      "RangeIndex: 371 entries, 0 to 370\n",
      "Data columns (total 5 columns):\n",
      " #   Column      Non-Null Count  Dtype  \n",
      "---  ------      --------------  -----  \n",
      " 0   Company     371 non-null    object \n",
      " 1   Pizza Name  371 non-null    object \n",
      " 2   Type        371 non-null    object \n",
      " 3   Size        371 non-null    object \n",
      " 4   Price       371 non-null    float64\n",
      "dtypes: float64(1), object(4)\n",
      "memory usage: 14.6+ KB\n"
     ]
    }
   ],
   "source": [
    "df.info()"
   ]
  },
  {
   "cell_type": "markdown",
   "metadata": {},
   "source": [
    "---"
   ]
  },
  {
   "cell_type": "markdown",
   "metadata": {},
   "source": [
    "Ajout de 3 colonnes au fichier originel : id_company, id_size, id_type."
   ]
  },
  {
   "cell_type": "markdown",
   "metadata": {},
   "source": [
    "## Id_company"
   ]
  },
  {
   "cell_type": "code",
   "execution_count": 270,
   "metadata": {},
   "outputs": [],
   "source": [
    "data = df"
   ]
  },
  {
   "cell_type": "code",
   "execution_count": 271,
   "metadata": {},
   "outputs": [
    {
     "name": "stdout",
     "output_type": "stream",
     "text": [
      "     Company           Pizza Name              Type           Size  Price\n",
      "0          1          Hand Tossed     Cheeses Pizza    Small (10\")   5.99\n",
      "1          1          Hand Tossed     Cheeses Pizza   Medium (12\")   7.99\n",
      "2          1          Hand Tossed     Cheeses Pizza    Large (14\")   9.99\n",
      "3          1         Handmade Pan     Cheeses Pizza   Medium (12\")   7.99\n",
      "4          1   Crunchy Thin Crust     Cheeses Pizza    Small (10\")   5.99\n",
      "..       ...                  ...               ...            ...    ...\n",
      "366        4    BBQ Chicken Pizza  Specialty Pizzas  X Large (16\")  23.85\n",
      "367        4  Egg-Ceptional Pizza  Specialty Pizzas    Small (10\")  11.80\n",
      "368        4  Egg-Ceptional Pizza  Specialty Pizzas   Medium (12\")  14.95\n",
      "369        4  Egg-Ceptional Pizza  Specialty Pizzas    Large (14\")  18.65\n",
      "370        4  Egg-Ceptional Pizza  Specialty Pizzas  X Large (16\")  22.30\n",
      "\n",
      "[371 rows x 5 columns]\n"
     ]
    }
   ],
   "source": [
    "# On remplace \"Domino's Pizza\" par des 1\n",
    "data = data.replace(\"Domino's Pizza\", 1)\n",
    "\n",
    "\n",
    "# On remplace \"Pizza Hut\" par des 2\n",
    "data = data.replace(\"Pizza Hut\", 2)\n",
    "\n",
    "\n",
    "# On remplace \"Godfather's Pizza\" par des 3\n",
    "data = data.replace(\"Godfather's Pizza\", 3)\n",
    "\n",
    "# On remplace \"IMO's Pizza\" par des 4\n",
    "data = data.replace(\"IMO's Pizza\", 4)\n",
    "\n",
    "\n",
    "print(data)"
   ]
  },
  {
   "cell_type": "code",
   "execution_count": 272,
   "metadata": {},
   "outputs": [
    {
     "name": "stdout",
     "output_type": "stream",
     "text": [
      "[1, 1, 1, 1, 1, 1, 1, 1, 1, 1, 1, 1, 1, 1, 1, 1, 1, 1, 1, 1, 1, 1, 1, 1, 1, 1, 1, 1, 1, 1, 1, 1, 1, 1, 1, 1, 1, 1, 1, 1, 1, 1, 1, 1, 1, 1, 1, 1, 1, 1, 1, 1, 1, 1, 1, 1, 1, 1, 1, 1, 1, 1, 1, 1, 1, 1, 1, 1, 1, 1, 1, 1, 1, 1, 1, 1, 1, 1, 1, 1, 1, 1, 1, 1, 1, 1, 1, 1, 2, 2, 2, 2, 2, 2, 2, 2, 2, 2, 2, 2, 2, 2, 2, 2, 2, 2, 2, 2, 2, 2, 2, 2, 2, 2, 2, 2, 2, 2, 2, 2, 2, 2, 2, 2, 2, 2, 2, 2, 2, 2, 2, 2, 2, 2, 2, 2, 2, 2, 2, 2, 2, 2, 2, 2, 2, 2, 2, 2, 2, 2, 2, 2, 2, 2, 2, 2, 2, 2, 2, 2, 2, 2, 2, 2, 2, 2, 2, 2, 2, 2, 2, 2, 2, 2, 2, 2, 2, 2, 2, 2, 2, 2, 2, 2, 2, 2, 2, 2, 2, 2, 2, 2, 2, 2, 2, 2, 2, 2, 2, 2, 2, 2, 2, 2, 2, 2, 2, 2, 2, 2, 2, 2, 2, 2, 3, 3, 3, 3, 3, 3, 3, 3, 3, 3, 3, 3, 3, 3, 3, 3, 3, 3, 3, 3, 3, 3, 3, 3, 3, 3, 3, 3, 3, 3, 3, 3, 3, 3, 3, 3, 3, 3, 3, 3, 3, 3, 3, 3, 3, 3, 3, 3, 3, 3, 3, 3, 3, 3, 3, 3, 3, 3, 3, 3, 3, 3, 3, 3, 3, 3, 3, 3, 3, 3, 3, 3, 3, 3, 3, 3, 3, 3, 3, 3, 3, 3, 3, 3, 3, 3, 3, 3, 3, 3, 3, 3, 3, 3, 3, 3, 3, 3, 3, 3, 3, 3, 3, 3, 3, 3, 3, 3, 3, 3, 3, 3, 3, 3, 3, 3, 3, 3, 3, 3, 3, 3, 3, 3, 3, 3, 3, 3, 3, 3, 3, 3, 3, 4, 4, 4, 4, 4, 4, 4, 4, 4, 4, 4, 4, 4, 4, 4, 4, 4, 4, 4, 4, 4, 4, 4, 4]\n"
     ]
    }
   ],
   "source": [
    "# Création d'une liste qui récupère chaque id_company\n",
    "\n",
    "liste = []\n",
    "\n",
    "for element in data['Company']:\n",
    "    liste.append(element)\n",
    "\n",
    "print(liste)"
   ]
  },
  {
   "cell_type": "code",
   "execution_count": 273,
   "metadata": {},
   "outputs": [],
   "source": [
    "# Création d'un nouveau df avec une colonne qui récupère tous les éléments de la liste qui contient les id_company \n",
    "\n",
    "df_2 = pd.DataFrame({\"id_company\": liste })"
   ]
  },
  {
   "cell_type": "code",
   "execution_count": 274,
   "metadata": {},
   "outputs": [],
   "source": [
    "# Conversion de la nouvelle colonne en float\n",
    "\n",
    "df_2 = df_2.astype(float)"
   ]
  },
  {
   "cell_type": "code",
   "execution_count": 275,
   "metadata": {},
   "outputs": [
    {
     "name": "stdout",
     "output_type": "stream",
     "text": [
      "<class 'pandas.core.frame.DataFrame'>\n",
      "RangeIndex: 371 entries, 0 to 370\n",
      "Data columns (total 1 columns):\n",
      " #   Column      Non-Null Count  Dtype  \n",
      "---  ------      --------------  -----  \n",
      " 0   id_company  371 non-null    float64\n",
      "dtypes: float64(1)\n",
      "memory usage: 3.0 KB\n"
     ]
    }
   ],
   "source": [
    "# le type de la colonne a bien été changé\n",
    "\n",
    "df_2.info()"
   ]
  },
  {
   "cell_type": "code",
   "execution_count": 276,
   "metadata": {},
   "outputs": [],
   "source": [
    "# On ajoute la nouvelle colonne id_company à notre dataframe de base\n",
    "test = pd.concat([data, df_2], axis=1)"
   ]
  },
  {
   "cell_type": "code",
   "execution_count": 277,
   "metadata": {},
   "outputs": [
    {
     "data": {
      "text/html": [
       "<div>\n",
       "<style scoped>\n",
       "    .dataframe tbody tr th:only-of-type {\n",
       "        vertical-align: middle;\n",
       "    }\n",
       "\n",
       "    .dataframe tbody tr th {\n",
       "        vertical-align: top;\n",
       "    }\n",
       "\n",
       "    .dataframe thead th {\n",
       "        text-align: right;\n",
       "    }\n",
       "</style>\n",
       "<table border=\"1\" class=\"dataframe\">\n",
       "  <thead>\n",
       "    <tr style=\"text-align: right;\">\n",
       "      <th></th>\n",
       "      <th>Company</th>\n",
       "      <th>Pizza Name</th>\n",
       "      <th>Type</th>\n",
       "      <th>Size</th>\n",
       "      <th>Price</th>\n",
       "      <th>id_company</th>\n",
       "    </tr>\n",
       "  </thead>\n",
       "  <tbody>\n",
       "    <tr>\n",
       "      <th>0</th>\n",
       "      <td>1</td>\n",
       "      <td>Hand Tossed</td>\n",
       "      <td>Cheeses Pizza</td>\n",
       "      <td>Small (10\")</td>\n",
       "      <td>5.99</td>\n",
       "      <td>1.0</td>\n",
       "    </tr>\n",
       "    <tr>\n",
       "      <th>1</th>\n",
       "      <td>1</td>\n",
       "      <td>Hand Tossed</td>\n",
       "      <td>Cheeses Pizza</td>\n",
       "      <td>Medium (12\")</td>\n",
       "      <td>7.99</td>\n",
       "      <td>1.0</td>\n",
       "    </tr>\n",
       "    <tr>\n",
       "      <th>2</th>\n",
       "      <td>1</td>\n",
       "      <td>Hand Tossed</td>\n",
       "      <td>Cheeses Pizza</td>\n",
       "      <td>Large (14\")</td>\n",
       "      <td>9.99</td>\n",
       "      <td>1.0</td>\n",
       "    </tr>\n",
       "    <tr>\n",
       "      <th>3</th>\n",
       "      <td>1</td>\n",
       "      <td>Handmade Pan</td>\n",
       "      <td>Cheeses Pizza</td>\n",
       "      <td>Medium (12\")</td>\n",
       "      <td>7.99</td>\n",
       "      <td>1.0</td>\n",
       "    </tr>\n",
       "    <tr>\n",
       "      <th>4</th>\n",
       "      <td>1</td>\n",
       "      <td>Crunchy Thin Crust</td>\n",
       "      <td>Cheeses Pizza</td>\n",
       "      <td>Small (10\")</td>\n",
       "      <td>5.99</td>\n",
       "      <td>1.0</td>\n",
       "    </tr>\n",
       "    <tr>\n",
       "      <th>...</th>\n",
       "      <td>...</td>\n",
       "      <td>...</td>\n",
       "      <td>...</td>\n",
       "      <td>...</td>\n",
       "      <td>...</td>\n",
       "      <td>...</td>\n",
       "    </tr>\n",
       "    <tr>\n",
       "      <th>366</th>\n",
       "      <td>4</td>\n",
       "      <td>BBQ Chicken Pizza</td>\n",
       "      <td>Specialty Pizzas</td>\n",
       "      <td>X Large (16\")</td>\n",
       "      <td>23.85</td>\n",
       "      <td>4.0</td>\n",
       "    </tr>\n",
       "    <tr>\n",
       "      <th>367</th>\n",
       "      <td>4</td>\n",
       "      <td>Egg-Ceptional Pizza</td>\n",
       "      <td>Specialty Pizzas</td>\n",
       "      <td>Small (10\")</td>\n",
       "      <td>11.80</td>\n",
       "      <td>4.0</td>\n",
       "    </tr>\n",
       "    <tr>\n",
       "      <th>368</th>\n",
       "      <td>4</td>\n",
       "      <td>Egg-Ceptional Pizza</td>\n",
       "      <td>Specialty Pizzas</td>\n",
       "      <td>Medium (12\")</td>\n",
       "      <td>14.95</td>\n",
       "      <td>4.0</td>\n",
       "    </tr>\n",
       "    <tr>\n",
       "      <th>369</th>\n",
       "      <td>4</td>\n",
       "      <td>Egg-Ceptional Pizza</td>\n",
       "      <td>Specialty Pizzas</td>\n",
       "      <td>Large (14\")</td>\n",
       "      <td>18.65</td>\n",
       "      <td>4.0</td>\n",
       "    </tr>\n",
       "    <tr>\n",
       "      <th>370</th>\n",
       "      <td>4</td>\n",
       "      <td>Egg-Ceptional Pizza</td>\n",
       "      <td>Specialty Pizzas</td>\n",
       "      <td>X Large (16\")</td>\n",
       "      <td>22.30</td>\n",
       "      <td>4.0</td>\n",
       "    </tr>\n",
       "  </tbody>\n",
       "</table>\n",
       "<p>371 rows × 6 columns</p>\n",
       "</div>"
      ],
      "text/plain": [
       "     Company           Pizza Name              Type           Size  Price  \\\n",
       "0          1          Hand Tossed     Cheeses Pizza    Small (10\")   5.99   \n",
       "1          1          Hand Tossed     Cheeses Pizza   Medium (12\")   7.99   \n",
       "2          1          Hand Tossed     Cheeses Pizza    Large (14\")   9.99   \n",
       "3          1         Handmade Pan     Cheeses Pizza   Medium (12\")   7.99   \n",
       "4          1   Crunchy Thin Crust     Cheeses Pizza    Small (10\")   5.99   \n",
       "..       ...                  ...               ...            ...    ...   \n",
       "366        4    BBQ Chicken Pizza  Specialty Pizzas  X Large (16\")  23.85   \n",
       "367        4  Egg-Ceptional Pizza  Specialty Pizzas    Small (10\")  11.80   \n",
       "368        4  Egg-Ceptional Pizza  Specialty Pizzas   Medium (12\")  14.95   \n",
       "369        4  Egg-Ceptional Pizza  Specialty Pizzas    Large (14\")  18.65   \n",
       "370        4  Egg-Ceptional Pizza  Specialty Pizzas  X Large (16\")  22.30   \n",
       "\n",
       "     id_company  \n",
       "0           1.0  \n",
       "1           1.0  \n",
       "2           1.0  \n",
       "3           1.0  \n",
       "4           1.0  \n",
       "..          ...  \n",
       "366         4.0  \n",
       "367         4.0  \n",
       "368         4.0  \n",
       "369         4.0  \n",
       "370         4.0  \n",
       "\n",
       "[371 rows x 6 columns]"
      ]
     },
     "execution_count": 277,
     "metadata": {},
     "output_type": "execute_result"
    }
   ],
   "source": [
    "# On peut visualiser notre nouveau dataframe \n",
    "\n",
    "test"
   ]
  },
  {
   "cell_type": "markdown",
   "metadata": {},
   "source": [
    "## Id_type"
   ]
  },
  {
   "cell_type": "code",
   "execution_count": 278,
   "metadata": {},
   "outputs": [],
   "source": [
    "data=test\n",
    "\n",
    "# On remplace \"Cheeses Pizza\" par des 1               \n",
    "data = data.replace(\"Cheeses Pizza\", 1)\n",
    "\n",
    "# On remplace \"Specialty Pizzas\" par des 2\n",
    "data = data.replace(\"Specialty Pizzas\", 2)\n",
    "\n",
    "# On remplace \"Feast Pizzas\" par des 3\n",
    "data = data.replace(\"Feast Pizzas\", 3)\n",
    "\n",
    "# On remplace \"Cheese Pizza\" par des 4\n",
    "data = data.replace(\"Cheese Pizza\", 4)\n",
    "\n",
    "# On remplace \"Classic Recipe Pizzas\" par des 5\n",
    "data = data.replace(\"Classic Recipe Pizzas\", 5)\n",
    "\n",
    "# On remplace \"New Recipe Pizzas\" par des 6\n",
    "data = data.replace(\"New Recipe Pizzas\", 6)\n",
    "\n",
    "# On remplace \"Skinny Pizzas\" par des 7\n",
    "data = data.replace(\"Skinny Pizzas\", 7)\n",
    "\n",
    "# On remplace \"Gluten-Free Pizzas\" par des 8\n",
    "data = data.replace(\"Gluten-Free Pizzas\", 8)\n",
    "\n",
    "# On remplace \"Express Favorites\" par des 9\n",
    "data = data.replace(\"Express Favorites\", 9)"
   ]
  },
  {
   "cell_type": "code",
   "execution_count": 279,
   "metadata": {},
   "outputs": [
    {
     "name": "stdout",
     "output_type": "stream",
     "text": [
      "     Company           Pizza Name  Type           Size  Price  id_company\n",
      "0          1          Hand Tossed     1    Small (10\")   5.99         1.0\n",
      "1          1          Hand Tossed     1   Medium (12\")   7.99         1.0\n",
      "2          1          Hand Tossed     1    Large (14\")   9.99         1.0\n",
      "3          1         Handmade Pan     1   Medium (12\")   7.99         1.0\n",
      "4          1   Crunchy Thin Crust     1    Small (10\")   5.99         1.0\n",
      "..       ...                  ...   ...            ...    ...         ...\n",
      "366        4    BBQ Chicken Pizza     2  X Large (16\")  23.85         4.0\n",
      "367        4  Egg-Ceptional Pizza     2    Small (10\")  11.80         4.0\n",
      "368        4  Egg-Ceptional Pizza     2   Medium (12\")  14.95         4.0\n",
      "369        4  Egg-Ceptional Pizza     2    Large (14\")  18.65         4.0\n",
      "370        4  Egg-Ceptional Pizza     2  X Large (16\")  22.30         4.0\n",
      "\n",
      "[371 rows x 6 columns]\n"
     ]
    }
   ],
   "source": [
    "print(data)"
   ]
  },
  {
   "cell_type": "code",
   "execution_count": 280,
   "metadata": {},
   "outputs": [
    {
     "name": "stdout",
     "output_type": "stream",
     "text": [
      "[1, 1, 1, 1, 1, 1, 1, 1, 1, 1, 2, 2, 2, 2, 2, 2, 2, 2, 2, 2, 2, 2, 2, 2, 2, 2, 2, 2, 2, 2, 2, 2, 2, 2, 2, 2, 2, 2, 2, 2, 2, 2, 2, 2, 2, 2, 2, 2, 2, 2, 2, 2, 2, 2, 2, 3, 3, 3, 3, 3, 3, 3, 3, 3, 3, 3, 3, 3, 3, 3, 3, 3, 3, 3, 3, 3, 3, 3, 3, 3, 3, 3, 3, 3, 3, 3, 3, 3, 4, 4, 4, 4, 4, 4, 4, 4, 4, 5, 5, 5, 5, 5, 5, 5, 5, 5, 5, 5, 5, 5, 5, 5, 5, 5, 5, 5, 5, 5, 5, 5, 5, 5, 5, 5, 5, 5, 5, 5, 5, 5, 5, 5, 5, 5, 5, 5, 5, 5, 5, 5, 5, 5, 5, 5, 5, 5, 5, 5, 5, 5, 5, 5, 5, 5, 5, 5, 5, 5, 5, 5, 5, 5, 5, 5, 5, 5, 5, 5, 5, 5, 5, 5, 5, 5, 5, 5, 5, 5, 5, 5, 5, 5, 5, 5, 5, 5, 5, 6, 6, 6, 6, 6, 6, 6, 6, 6, 6, 6, 6, 6, 6, 6, 6, 6, 6, 6, 6, 6, 7, 7, 7, 7, 7, 8, 4, 4, 4, 4, 4, 4, 4, 2, 2, 2, 2, 2, 2, 2, 2, 2, 2, 2, 2, 2, 2, 2, 2, 2, 2, 2, 2, 2, 2, 2, 2, 2, 2, 2, 2, 2, 2, 2, 2, 2, 2, 2, 2, 2, 2, 2, 2, 2, 2, 2, 2, 2, 2, 2, 2, 2, 2, 2, 2, 2, 2, 2, 2, 2, 2, 2, 2, 2, 2, 2, 2, 2, 2, 2, 2, 2, 2, 2, 2, 2, 2, 2, 2, 2, 2, 2, 2, 2, 2, 2, 2, 2, 2, 2, 2, 2, 2, 2, 2, 2, 2, 2, 2, 2, 2, 2, 2, 2, 2, 2, 2, 2, 2, 2, 2, 2, 2, 2, 2, 2, 2, 2, 2, 2, 8, 8, 9, 9, 9, 9, 9, 9, 9, 2, 2, 2, 2, 2, 2, 2, 2, 2, 2, 2, 2, 2, 2, 2, 2, 2, 2, 2, 2, 2, 2, 2, 2]\n"
     ]
    }
   ],
   "source": [
    "# Création d'une liste qui récupère chaque id_type\n",
    "\n",
    "liste = []\n",
    "\n",
    "for element in data['Type']:\n",
    "    liste.append(element)\n",
    "\n",
    "print(liste)"
   ]
  },
  {
   "cell_type": "code",
   "execution_count": 281,
   "metadata": {},
   "outputs": [],
   "source": [
    "# Création d'un nouveau df avec une colonne qui récupère tous les éléments de la liste qui contient les id_type\n",
    "\n",
    "df_2 = pd.DataFrame({\"id_type\": liste })"
   ]
  },
  {
   "cell_type": "code",
   "execution_count": 282,
   "metadata": {},
   "outputs": [],
   "source": [
    "# Conversion de la nouvelle colonne en float\n",
    "\n",
    "df_2 = df_2.astype(float)"
   ]
  },
  {
   "cell_type": "code",
   "execution_count": 283,
   "metadata": {},
   "outputs": [
    {
     "name": "stdout",
     "output_type": "stream",
     "text": [
      "<class 'pandas.core.frame.DataFrame'>\n",
      "RangeIndex: 371 entries, 0 to 370\n",
      "Data columns (total 1 columns):\n",
      " #   Column   Non-Null Count  Dtype  \n",
      "---  ------   --------------  -----  \n",
      " 0   id_type  371 non-null    float64\n",
      "dtypes: float64(1)\n",
      "memory usage: 3.0 KB\n"
     ]
    }
   ],
   "source": [
    "df_2.info()"
   ]
  },
  {
   "cell_type": "code",
   "execution_count": 284,
   "metadata": {},
   "outputs": [],
   "source": [
    "# On ajoute la nouvelle colonne id_company à notre dataframe de base\n",
    "test = pd.concat([data, df_2], axis=1)"
   ]
  },
  {
   "cell_type": "code",
   "execution_count": 285,
   "metadata": {},
   "outputs": [
    {
     "data": {
      "text/html": [
       "<div>\n",
       "<style scoped>\n",
       "    .dataframe tbody tr th:only-of-type {\n",
       "        vertical-align: middle;\n",
       "    }\n",
       "\n",
       "    .dataframe tbody tr th {\n",
       "        vertical-align: top;\n",
       "    }\n",
       "\n",
       "    .dataframe thead th {\n",
       "        text-align: right;\n",
       "    }\n",
       "</style>\n",
       "<table border=\"1\" class=\"dataframe\">\n",
       "  <thead>\n",
       "    <tr style=\"text-align: right;\">\n",
       "      <th></th>\n",
       "      <th>Company</th>\n",
       "      <th>Pizza Name</th>\n",
       "      <th>Type</th>\n",
       "      <th>Size</th>\n",
       "      <th>Price</th>\n",
       "      <th>id_company</th>\n",
       "      <th>id_type</th>\n",
       "    </tr>\n",
       "  </thead>\n",
       "  <tbody>\n",
       "    <tr>\n",
       "      <th>0</th>\n",
       "      <td>1</td>\n",
       "      <td>Hand Tossed</td>\n",
       "      <td>1</td>\n",
       "      <td>Small (10\")</td>\n",
       "      <td>5.99</td>\n",
       "      <td>1.0</td>\n",
       "      <td>1.0</td>\n",
       "    </tr>\n",
       "    <tr>\n",
       "      <th>1</th>\n",
       "      <td>1</td>\n",
       "      <td>Hand Tossed</td>\n",
       "      <td>1</td>\n",
       "      <td>Medium (12\")</td>\n",
       "      <td>7.99</td>\n",
       "      <td>1.0</td>\n",
       "      <td>1.0</td>\n",
       "    </tr>\n",
       "    <tr>\n",
       "      <th>2</th>\n",
       "      <td>1</td>\n",
       "      <td>Hand Tossed</td>\n",
       "      <td>1</td>\n",
       "      <td>Large (14\")</td>\n",
       "      <td>9.99</td>\n",
       "      <td>1.0</td>\n",
       "      <td>1.0</td>\n",
       "    </tr>\n",
       "    <tr>\n",
       "      <th>3</th>\n",
       "      <td>1</td>\n",
       "      <td>Handmade Pan</td>\n",
       "      <td>1</td>\n",
       "      <td>Medium (12\")</td>\n",
       "      <td>7.99</td>\n",
       "      <td>1.0</td>\n",
       "      <td>1.0</td>\n",
       "    </tr>\n",
       "    <tr>\n",
       "      <th>4</th>\n",
       "      <td>1</td>\n",
       "      <td>Crunchy Thin Crust</td>\n",
       "      <td>1</td>\n",
       "      <td>Small (10\")</td>\n",
       "      <td>5.99</td>\n",
       "      <td>1.0</td>\n",
       "      <td>1.0</td>\n",
       "    </tr>\n",
       "    <tr>\n",
       "      <th>...</th>\n",
       "      <td>...</td>\n",
       "      <td>...</td>\n",
       "      <td>...</td>\n",
       "      <td>...</td>\n",
       "      <td>...</td>\n",
       "      <td>...</td>\n",
       "      <td>...</td>\n",
       "    </tr>\n",
       "    <tr>\n",
       "      <th>366</th>\n",
       "      <td>4</td>\n",
       "      <td>BBQ Chicken Pizza</td>\n",
       "      <td>2</td>\n",
       "      <td>X Large (16\")</td>\n",
       "      <td>23.85</td>\n",
       "      <td>4.0</td>\n",
       "      <td>2.0</td>\n",
       "    </tr>\n",
       "    <tr>\n",
       "      <th>367</th>\n",
       "      <td>4</td>\n",
       "      <td>Egg-Ceptional Pizza</td>\n",
       "      <td>2</td>\n",
       "      <td>Small (10\")</td>\n",
       "      <td>11.80</td>\n",
       "      <td>4.0</td>\n",
       "      <td>2.0</td>\n",
       "    </tr>\n",
       "    <tr>\n",
       "      <th>368</th>\n",
       "      <td>4</td>\n",
       "      <td>Egg-Ceptional Pizza</td>\n",
       "      <td>2</td>\n",
       "      <td>Medium (12\")</td>\n",
       "      <td>14.95</td>\n",
       "      <td>4.0</td>\n",
       "      <td>2.0</td>\n",
       "    </tr>\n",
       "    <tr>\n",
       "      <th>369</th>\n",
       "      <td>4</td>\n",
       "      <td>Egg-Ceptional Pizza</td>\n",
       "      <td>2</td>\n",
       "      <td>Large (14\")</td>\n",
       "      <td>18.65</td>\n",
       "      <td>4.0</td>\n",
       "      <td>2.0</td>\n",
       "    </tr>\n",
       "    <tr>\n",
       "      <th>370</th>\n",
       "      <td>4</td>\n",
       "      <td>Egg-Ceptional Pizza</td>\n",
       "      <td>2</td>\n",
       "      <td>X Large (16\")</td>\n",
       "      <td>22.30</td>\n",
       "      <td>4.0</td>\n",
       "      <td>2.0</td>\n",
       "    </tr>\n",
       "  </tbody>\n",
       "</table>\n",
       "<p>371 rows × 7 columns</p>\n",
       "</div>"
      ],
      "text/plain": [
       "     Company           Pizza Name  Type           Size  Price  id_company  \\\n",
       "0          1          Hand Tossed     1    Small (10\")   5.99         1.0   \n",
       "1          1          Hand Tossed     1   Medium (12\")   7.99         1.0   \n",
       "2          1          Hand Tossed     1    Large (14\")   9.99         1.0   \n",
       "3          1         Handmade Pan     1   Medium (12\")   7.99         1.0   \n",
       "4          1   Crunchy Thin Crust     1    Small (10\")   5.99         1.0   \n",
       "..       ...                  ...   ...            ...    ...         ...   \n",
       "366        4    BBQ Chicken Pizza     2  X Large (16\")  23.85         4.0   \n",
       "367        4  Egg-Ceptional Pizza     2    Small (10\")  11.80         4.0   \n",
       "368        4  Egg-Ceptional Pizza     2   Medium (12\")  14.95         4.0   \n",
       "369        4  Egg-Ceptional Pizza     2    Large (14\")  18.65         4.0   \n",
       "370        4  Egg-Ceptional Pizza     2  X Large (16\")  22.30         4.0   \n",
       "\n",
       "     id_type  \n",
       "0        1.0  \n",
       "1        1.0  \n",
       "2        1.0  \n",
       "3        1.0  \n",
       "4        1.0  \n",
       "..       ...  \n",
       "366      2.0  \n",
       "367      2.0  \n",
       "368      2.0  \n",
       "369      2.0  \n",
       "370      2.0  \n",
       "\n",
       "[371 rows x 7 columns]"
      ]
     },
     "execution_count": 285,
     "metadata": {},
     "output_type": "execute_result"
    }
   ],
   "source": [
    "# On peut visualiser de nouveau le dataframe 'test'\n",
    "test"
   ]
  },
  {
   "cell_type": "markdown",
   "metadata": {},
   "source": [
    "## Id_size"
   ]
  },
  {
   "cell_type": "code",
   "execution_count": 286,
   "metadata": {},
   "outputs": [],
   "source": [
    "data=test\n",
    "\n",
    "# On remplace 'Small (10\")' par des 1               \n",
    "data = data.replace('Small (10\")', 1)\n",
    "\n",
    "# On remplace 'Medium (12\")' par des 2\n",
    "data = data.replace('Medium (12\")', 2)\n",
    "\n",
    "# On remplace 'Large (14\")' par des 3\n",
    "data = data.replace('Large (14\")', 3)\n",
    "\n",
    "# On remplace \"X-Large (16\")\" par des 4\n",
    "data = data.replace('X-Large (16\")', 4)\n",
    "\n",
    "# On remplace 'Medium' par des 5\n",
    "data = data.replace('Medium', 5)\n",
    "\n",
    "# On remplace 'Large' par des 6\n",
    "data = data.replace('Large', 6)\n",
    "\n",
    "# On remplace 'Personal' par des 7\n",
    "data = data.replace('Personal', 7)\n",
    "\n",
    "# On remplace 'Small' par des 8\n",
    "data = data.replace('Small', 8)\n",
    "\n",
    "# On remplace 'Mini' par des 9\n",
    "data = data.replace('Mini', 9)\n",
    "\n",
    "# On remplace 'Jumbo' par des 10              \n",
    "data = data.replace('Jumbo', 10)\n",
    "\n",
    "# On remplace 'X Large (16\")' par des 11               \n",
    "data = data.replace('X Large (16\")', 11)"
   ]
  },
  {
   "cell_type": "code",
   "execution_count": 287,
   "metadata": {},
   "outputs": [
    {
     "name": "stdout",
     "output_type": "stream",
     "text": [
      "[1, 2, 3, 2, 1, 2, 3, 3, 4, 1, 1, 2, 3, 4, 1, 1, 2, 3, 4, 1, 1, 2, 3, 4, 1, 1, 2, 3, 4, 1, 1, 2, 3, 4, 1, 1, 2, 3, 4, 1, 1, 2, 3, 4, 1, 1, 2, 3, 4, 1, 1, 2, 3, 4, 1, 1, 2, 2, 3, 4, 1, 1, 2, 2, 3, 4, 1, 1, 2, 2, 3, 4, 1, 1, 2, 3, 4, 1, 1, 2, 3, 4, 1, 1, 2, 3, 4, 1, 5, 6, 7, 5, 6, 5, 6, 6, 6, 5, 6, 7, 5, 6, 5, 6, 6, 6, 5, 6, 7, 5, 6, 5, 6, 6, 6, 5, 6, 7, 5, 6, 5, 6, 6, 6, 5, 6, 7, 5, 6, 5, 6, 6, 6, 5, 6, 7, 5, 6, 5, 6, 6, 6, 5, 6, 7, 5, 6, 5, 6, 6, 6, 5, 6, 7, 5, 6, 5, 6, 6, 6, 5, 6, 7, 5, 6, 5, 6, 6, 6, 5, 6, 7, 5, 6, 5, 6, 6, 6, 5, 6, 7, 5, 6, 5, 6, 6, 6, 5, 6, 7, 5, 6, 5, 6, 5, 6, 5, 6, 5, 6, 5, 6, 5, 6, 5, 6, 5, 6, 6, 6, 6, 6, 6, 8, 9, 8, 5, 5, 6, 6, 10, 9, 8, 5, 5, 6, 6, 9, 8, 5, 5, 6, 6, 10, 9, 8, 5, 5, 6, 6, 10, 9, 8, 5, 5, 6, 6, 10, 9, 8, 5, 5, 6, 6, 10, 9, 8, 5, 5, 6, 6, 10, 9, 8, 5, 5, 6, 6, 10, 9, 8, 5, 5, 6, 6, 10, 9, 8, 5, 5, 6, 6, 10, 9, 8, 5, 5, 6, 6, 10, 8, 5, 5, 6, 6, 10, 8, 5, 5, 6, 6, 10, 8, 5, 5, 6, 6, 10, 8, 5, 5, 6, 6, 10, 8, 5, 5, 6, 6, 10, 9, 8, 5, 5, 6, 6, 10, 9, 8, 5, 5, 6, 6, 10, 5, 6, 5, 6, 5, 6, 9, 8, 5, 5, 6, 6, 10, 1, 2, 3, 11, 1, 2, 3, 11, 1, 2, 3, 11, 1, 2, 3, 11, 1, 2, 3, 11, 1, 2, 3, 11]\n"
     ]
    }
   ],
   "source": [
    "# Création d'une liste qui récupère chaque id_size\n",
    "\n",
    "liste = []\n",
    "\n",
    "for element in data['Size']:\n",
    "    liste.append(element)\n",
    "\n",
    "print(liste)"
   ]
  },
  {
   "cell_type": "code",
   "execution_count": 288,
   "metadata": {},
   "outputs": [],
   "source": [
    "# Création d'un nouveau df avec une colonne qui récupère tous les éléments de la liste qui contient les id_size \n",
    "\n",
    "df_2 = pd.DataFrame({\"id_size\": liste })"
   ]
  },
  {
   "cell_type": "code",
   "execution_count": 289,
   "metadata": {},
   "outputs": [],
   "source": [
    "# Conversion de la nouvelle colonne en float\n",
    "\n",
    "df_2 = df_2.astype(float)"
   ]
  },
  {
   "cell_type": "code",
   "execution_count": 290,
   "metadata": {},
   "outputs": [
    {
     "name": "stdout",
     "output_type": "stream",
     "text": [
      "<class 'pandas.core.frame.DataFrame'>\n",
      "RangeIndex: 371 entries, 0 to 370\n",
      "Data columns (total 1 columns):\n",
      " #   Column   Non-Null Count  Dtype  \n",
      "---  ------   --------------  -----  \n",
      " 0   id_size  371 non-null    float64\n",
      "dtypes: float64(1)\n",
      "memory usage: 3.0 KB\n"
     ]
    }
   ],
   "source": [
    "df_2.info()"
   ]
  },
  {
   "cell_type": "code",
   "execution_count": 291,
   "metadata": {},
   "outputs": [],
   "source": [
    "# On ajoute la nouvelle colonne id_company à notre dataframe de base\n",
    "test = pd.concat([data, df_2], axis=1)"
   ]
  },
  {
   "cell_type": "code",
   "execution_count": 292,
   "metadata": {},
   "outputs": [
    {
     "data": {
      "text/html": [
       "<div>\n",
       "<style scoped>\n",
       "    .dataframe tbody tr th:only-of-type {\n",
       "        vertical-align: middle;\n",
       "    }\n",
       "\n",
       "    .dataframe tbody tr th {\n",
       "        vertical-align: top;\n",
       "    }\n",
       "\n",
       "    .dataframe thead th {\n",
       "        text-align: right;\n",
       "    }\n",
       "</style>\n",
       "<table border=\"1\" class=\"dataframe\">\n",
       "  <thead>\n",
       "    <tr style=\"text-align: right;\">\n",
       "      <th></th>\n",
       "      <th>Company</th>\n",
       "      <th>Pizza Name</th>\n",
       "      <th>Type</th>\n",
       "      <th>Size</th>\n",
       "      <th>Price</th>\n",
       "      <th>id_company</th>\n",
       "      <th>id_type</th>\n",
       "      <th>id_size</th>\n",
       "    </tr>\n",
       "  </thead>\n",
       "  <tbody>\n",
       "    <tr>\n",
       "      <th>0</th>\n",
       "      <td>1</td>\n",
       "      <td>Hand Tossed</td>\n",
       "      <td>1</td>\n",
       "      <td>1</td>\n",
       "      <td>5.99</td>\n",
       "      <td>1.0</td>\n",
       "      <td>1.0</td>\n",
       "      <td>1.0</td>\n",
       "    </tr>\n",
       "    <tr>\n",
       "      <th>1</th>\n",
       "      <td>1</td>\n",
       "      <td>Hand Tossed</td>\n",
       "      <td>1</td>\n",
       "      <td>2</td>\n",
       "      <td>7.99</td>\n",
       "      <td>1.0</td>\n",
       "      <td>1.0</td>\n",
       "      <td>2.0</td>\n",
       "    </tr>\n",
       "    <tr>\n",
       "      <th>2</th>\n",
       "      <td>1</td>\n",
       "      <td>Hand Tossed</td>\n",
       "      <td>1</td>\n",
       "      <td>3</td>\n",
       "      <td>9.99</td>\n",
       "      <td>1.0</td>\n",
       "      <td>1.0</td>\n",
       "      <td>3.0</td>\n",
       "    </tr>\n",
       "    <tr>\n",
       "      <th>3</th>\n",
       "      <td>1</td>\n",
       "      <td>Handmade Pan</td>\n",
       "      <td>1</td>\n",
       "      <td>2</td>\n",
       "      <td>7.99</td>\n",
       "      <td>1.0</td>\n",
       "      <td>1.0</td>\n",
       "      <td>2.0</td>\n",
       "    </tr>\n",
       "    <tr>\n",
       "      <th>4</th>\n",
       "      <td>1</td>\n",
       "      <td>Crunchy Thin Crust</td>\n",
       "      <td>1</td>\n",
       "      <td>1</td>\n",
       "      <td>5.99</td>\n",
       "      <td>1.0</td>\n",
       "      <td>1.0</td>\n",
       "      <td>1.0</td>\n",
       "    </tr>\n",
       "    <tr>\n",
       "      <th>...</th>\n",
       "      <td>...</td>\n",
       "      <td>...</td>\n",
       "      <td>...</td>\n",
       "      <td>...</td>\n",
       "      <td>...</td>\n",
       "      <td>...</td>\n",
       "      <td>...</td>\n",
       "      <td>...</td>\n",
       "    </tr>\n",
       "    <tr>\n",
       "      <th>366</th>\n",
       "      <td>4</td>\n",
       "      <td>BBQ Chicken Pizza</td>\n",
       "      <td>2</td>\n",
       "      <td>11</td>\n",
       "      <td>23.85</td>\n",
       "      <td>4.0</td>\n",
       "      <td>2.0</td>\n",
       "      <td>11.0</td>\n",
       "    </tr>\n",
       "    <tr>\n",
       "      <th>367</th>\n",
       "      <td>4</td>\n",
       "      <td>Egg-Ceptional Pizza</td>\n",
       "      <td>2</td>\n",
       "      <td>1</td>\n",
       "      <td>11.80</td>\n",
       "      <td>4.0</td>\n",
       "      <td>2.0</td>\n",
       "      <td>1.0</td>\n",
       "    </tr>\n",
       "    <tr>\n",
       "      <th>368</th>\n",
       "      <td>4</td>\n",
       "      <td>Egg-Ceptional Pizza</td>\n",
       "      <td>2</td>\n",
       "      <td>2</td>\n",
       "      <td>14.95</td>\n",
       "      <td>4.0</td>\n",
       "      <td>2.0</td>\n",
       "      <td>2.0</td>\n",
       "    </tr>\n",
       "    <tr>\n",
       "      <th>369</th>\n",
       "      <td>4</td>\n",
       "      <td>Egg-Ceptional Pizza</td>\n",
       "      <td>2</td>\n",
       "      <td>3</td>\n",
       "      <td>18.65</td>\n",
       "      <td>4.0</td>\n",
       "      <td>2.0</td>\n",
       "      <td>3.0</td>\n",
       "    </tr>\n",
       "    <tr>\n",
       "      <th>370</th>\n",
       "      <td>4</td>\n",
       "      <td>Egg-Ceptional Pizza</td>\n",
       "      <td>2</td>\n",
       "      <td>11</td>\n",
       "      <td>22.30</td>\n",
       "      <td>4.0</td>\n",
       "      <td>2.0</td>\n",
       "      <td>11.0</td>\n",
       "    </tr>\n",
       "  </tbody>\n",
       "</table>\n",
       "<p>371 rows × 8 columns</p>\n",
       "</div>"
      ],
      "text/plain": [
       "     Company           Pizza Name  Type  Size  Price  id_company  id_type  \\\n",
       "0          1          Hand Tossed     1     1   5.99         1.0      1.0   \n",
       "1          1          Hand Tossed     1     2   7.99         1.0      1.0   \n",
       "2          1          Hand Tossed     1     3   9.99         1.0      1.0   \n",
       "3          1         Handmade Pan     1     2   7.99         1.0      1.0   \n",
       "4          1   Crunchy Thin Crust     1     1   5.99         1.0      1.0   \n",
       "..       ...                  ...   ...   ...    ...         ...      ...   \n",
       "366        4    BBQ Chicken Pizza     2    11  23.85         4.0      2.0   \n",
       "367        4  Egg-Ceptional Pizza     2     1  11.80         4.0      2.0   \n",
       "368        4  Egg-Ceptional Pizza     2     2  14.95         4.0      2.0   \n",
       "369        4  Egg-Ceptional Pizza     2     3  18.65         4.0      2.0   \n",
       "370        4  Egg-Ceptional Pizza     2    11  22.30         4.0      2.0   \n",
       "\n",
       "     id_size  \n",
       "0        1.0  \n",
       "1        2.0  \n",
       "2        3.0  \n",
       "3        2.0  \n",
       "4        1.0  \n",
       "..       ...  \n",
       "366     11.0  \n",
       "367      1.0  \n",
       "368      2.0  \n",
       "369      3.0  \n",
       "370     11.0  \n",
       "\n",
       "[371 rows x 8 columns]"
      ]
     },
     "execution_count": 292,
     "metadata": {},
     "output_type": "execute_result"
    }
   ],
   "source": [
    "# Visualisation du dataframe 'test'. Les 3 colonnes 'id' sont bien présentes.\n",
    "test"
   ]
  },
  {
   "cell_type": "markdown",
   "metadata": {},
   "source": [
    "## <center>Sauvegarde</center>"
   ]
  },
  {
   "cell_type": "code",
   "execution_count": 293,
   "metadata": {},
   "outputs": [],
   "source": [
    "# sauvegarde dans un nouveau csv\n",
    "df = test.to_csv('pizza_id.csv', index=False)"
   ]
  },
  {
   "cell_type": "code",
   "execution_count": 294,
   "metadata": {},
   "outputs": [],
   "source": [
    "# lecture du nouveau fichier\n",
    "df = pd.read_csv('pizza_id.csv')"
   ]
  },
  {
   "cell_type": "code",
   "execution_count": 295,
   "metadata": {},
   "outputs": [
    {
     "data": {
      "text/html": [
       "<div>\n",
       "<style scoped>\n",
       "    .dataframe tbody tr th:only-of-type {\n",
       "        vertical-align: middle;\n",
       "    }\n",
       "\n",
       "    .dataframe tbody tr th {\n",
       "        vertical-align: top;\n",
       "    }\n",
       "\n",
       "    .dataframe thead th {\n",
       "        text-align: right;\n",
       "    }\n",
       "</style>\n",
       "<table border=\"1\" class=\"dataframe\">\n",
       "  <thead>\n",
       "    <tr style=\"text-align: right;\">\n",
       "      <th></th>\n",
       "      <th>Company</th>\n",
       "      <th>Pizza Name</th>\n",
       "      <th>Type</th>\n",
       "      <th>Size</th>\n",
       "      <th>Price</th>\n",
       "      <th>id_company</th>\n",
       "      <th>id_type</th>\n",
       "      <th>id_size</th>\n",
       "    </tr>\n",
       "  </thead>\n",
       "  <tbody>\n",
       "    <tr>\n",
       "      <th>0</th>\n",
       "      <td>1</td>\n",
       "      <td>Hand Tossed</td>\n",
       "      <td>1</td>\n",
       "      <td>1</td>\n",
       "      <td>5.99</td>\n",
       "      <td>1.0</td>\n",
       "      <td>1.0</td>\n",
       "      <td>1.0</td>\n",
       "    </tr>\n",
       "    <tr>\n",
       "      <th>1</th>\n",
       "      <td>1</td>\n",
       "      <td>Hand Tossed</td>\n",
       "      <td>1</td>\n",
       "      <td>2</td>\n",
       "      <td>7.99</td>\n",
       "      <td>1.0</td>\n",
       "      <td>1.0</td>\n",
       "      <td>2.0</td>\n",
       "    </tr>\n",
       "    <tr>\n",
       "      <th>2</th>\n",
       "      <td>1</td>\n",
       "      <td>Hand Tossed</td>\n",
       "      <td>1</td>\n",
       "      <td>3</td>\n",
       "      <td>9.99</td>\n",
       "      <td>1.0</td>\n",
       "      <td>1.0</td>\n",
       "      <td>3.0</td>\n",
       "    </tr>\n",
       "    <tr>\n",
       "      <th>3</th>\n",
       "      <td>1</td>\n",
       "      <td>Handmade Pan</td>\n",
       "      <td>1</td>\n",
       "      <td>2</td>\n",
       "      <td>7.99</td>\n",
       "      <td>1.0</td>\n",
       "      <td>1.0</td>\n",
       "      <td>2.0</td>\n",
       "    </tr>\n",
       "    <tr>\n",
       "      <th>4</th>\n",
       "      <td>1</td>\n",
       "      <td>Crunchy Thin Crust</td>\n",
       "      <td>1</td>\n",
       "      <td>1</td>\n",
       "      <td>5.99</td>\n",
       "      <td>1.0</td>\n",
       "      <td>1.0</td>\n",
       "      <td>1.0</td>\n",
       "    </tr>\n",
       "    <tr>\n",
       "      <th>...</th>\n",
       "      <td>...</td>\n",
       "      <td>...</td>\n",
       "      <td>...</td>\n",
       "      <td>...</td>\n",
       "      <td>...</td>\n",
       "      <td>...</td>\n",
       "      <td>...</td>\n",
       "      <td>...</td>\n",
       "    </tr>\n",
       "    <tr>\n",
       "      <th>366</th>\n",
       "      <td>4</td>\n",
       "      <td>BBQ Chicken Pizza</td>\n",
       "      <td>2</td>\n",
       "      <td>11</td>\n",
       "      <td>23.85</td>\n",
       "      <td>4.0</td>\n",
       "      <td>2.0</td>\n",
       "      <td>11.0</td>\n",
       "    </tr>\n",
       "    <tr>\n",
       "      <th>367</th>\n",
       "      <td>4</td>\n",
       "      <td>Egg-Ceptional Pizza</td>\n",
       "      <td>2</td>\n",
       "      <td>1</td>\n",
       "      <td>11.80</td>\n",
       "      <td>4.0</td>\n",
       "      <td>2.0</td>\n",
       "      <td>1.0</td>\n",
       "    </tr>\n",
       "    <tr>\n",
       "      <th>368</th>\n",
       "      <td>4</td>\n",
       "      <td>Egg-Ceptional Pizza</td>\n",
       "      <td>2</td>\n",
       "      <td>2</td>\n",
       "      <td>14.95</td>\n",
       "      <td>4.0</td>\n",
       "      <td>2.0</td>\n",
       "      <td>2.0</td>\n",
       "    </tr>\n",
       "    <tr>\n",
       "      <th>369</th>\n",
       "      <td>4</td>\n",
       "      <td>Egg-Ceptional Pizza</td>\n",
       "      <td>2</td>\n",
       "      <td>3</td>\n",
       "      <td>18.65</td>\n",
       "      <td>4.0</td>\n",
       "      <td>2.0</td>\n",
       "      <td>3.0</td>\n",
       "    </tr>\n",
       "    <tr>\n",
       "      <th>370</th>\n",
       "      <td>4</td>\n",
       "      <td>Egg-Ceptional Pizza</td>\n",
       "      <td>2</td>\n",
       "      <td>11</td>\n",
       "      <td>22.30</td>\n",
       "      <td>4.0</td>\n",
       "      <td>2.0</td>\n",
       "      <td>11.0</td>\n",
       "    </tr>\n",
       "  </tbody>\n",
       "</table>\n",
       "<p>371 rows × 8 columns</p>\n",
       "</div>"
      ],
      "text/plain": [
       "     Company           Pizza Name  Type  Size  Price  id_company  id_type  \\\n",
       "0          1          Hand Tossed     1     1   5.99         1.0      1.0   \n",
       "1          1          Hand Tossed     1     2   7.99         1.0      1.0   \n",
       "2          1          Hand Tossed     1     3   9.99         1.0      1.0   \n",
       "3          1         Handmade Pan     1     2   7.99         1.0      1.0   \n",
       "4          1   Crunchy Thin Crust     1     1   5.99         1.0      1.0   \n",
       "..       ...                  ...   ...   ...    ...         ...      ...   \n",
       "366        4    BBQ Chicken Pizza     2    11  23.85         4.0      2.0   \n",
       "367        4  Egg-Ceptional Pizza     2     1  11.80         4.0      2.0   \n",
       "368        4  Egg-Ceptional Pizza     2     2  14.95         4.0      2.0   \n",
       "369        4  Egg-Ceptional Pizza     2     3  18.65         4.0      2.0   \n",
       "370        4  Egg-Ceptional Pizza     2    11  22.30         4.0      2.0   \n",
       "\n",
       "     id_size  \n",
       "0        1.0  \n",
       "1        2.0  \n",
       "2        3.0  \n",
       "3        2.0  \n",
       "4        1.0  \n",
       "..       ...  \n",
       "366     11.0  \n",
       "367      1.0  \n",
       "368      2.0  \n",
       "369      3.0  \n",
       "370     11.0  \n",
       "\n",
       "[371 rows x 8 columns]"
      ]
     },
     "execution_count": 295,
     "metadata": {},
     "output_type": "execute_result"
    }
   ],
   "source": [
    "df"
   ]
  },
  {
   "cell_type": "markdown",
   "metadata": {},
   "source": [
    "## Fusion dataframe\n",
    "\n",
    "On ajoute nos trois colonnes 'id' à notre dataframe originel."
   ]
  },
  {
   "cell_type": "code",
   "execution_count": 296,
   "metadata": {},
   "outputs": [
    {
     "data": {
      "text/html": [
       "<div>\n",
       "<style scoped>\n",
       "    .dataframe tbody tr th:only-of-type {\n",
       "        vertical-align: middle;\n",
       "    }\n",
       "\n",
       "    .dataframe tbody tr th {\n",
       "        vertical-align: top;\n",
       "    }\n",
       "\n",
       "    .dataframe thead th {\n",
       "        text-align: right;\n",
       "    }\n",
       "</style>\n",
       "<table border=\"1\" class=\"dataframe\">\n",
       "  <thead>\n",
       "    <tr style=\"text-align: right;\">\n",
       "      <th></th>\n",
       "      <th>id_company</th>\n",
       "      <th>id_type</th>\n",
       "      <th>id_size</th>\n",
       "    </tr>\n",
       "  </thead>\n",
       "  <tbody>\n",
       "    <tr>\n",
       "      <th>0</th>\n",
       "      <td>1.0</td>\n",
       "      <td>1.0</td>\n",
       "      <td>1.0</td>\n",
       "    </tr>\n",
       "    <tr>\n",
       "      <th>1</th>\n",
       "      <td>1.0</td>\n",
       "      <td>1.0</td>\n",
       "      <td>2.0</td>\n",
       "    </tr>\n",
       "    <tr>\n",
       "      <th>2</th>\n",
       "      <td>1.0</td>\n",
       "      <td>1.0</td>\n",
       "      <td>3.0</td>\n",
       "    </tr>\n",
       "    <tr>\n",
       "      <th>3</th>\n",
       "      <td>1.0</td>\n",
       "      <td>1.0</td>\n",
       "      <td>2.0</td>\n",
       "    </tr>\n",
       "    <tr>\n",
       "      <th>4</th>\n",
       "      <td>1.0</td>\n",
       "      <td>1.0</td>\n",
       "      <td>1.0</td>\n",
       "    </tr>\n",
       "    <tr>\n",
       "      <th>...</th>\n",
       "      <td>...</td>\n",
       "      <td>...</td>\n",
       "      <td>...</td>\n",
       "    </tr>\n",
       "    <tr>\n",
       "      <th>366</th>\n",
       "      <td>4.0</td>\n",
       "      <td>2.0</td>\n",
       "      <td>11.0</td>\n",
       "    </tr>\n",
       "    <tr>\n",
       "      <th>367</th>\n",
       "      <td>4.0</td>\n",
       "      <td>2.0</td>\n",
       "      <td>1.0</td>\n",
       "    </tr>\n",
       "    <tr>\n",
       "      <th>368</th>\n",
       "      <td>4.0</td>\n",
       "      <td>2.0</td>\n",
       "      <td>2.0</td>\n",
       "    </tr>\n",
       "    <tr>\n",
       "      <th>369</th>\n",
       "      <td>4.0</td>\n",
       "      <td>2.0</td>\n",
       "      <td>3.0</td>\n",
       "    </tr>\n",
       "    <tr>\n",
       "      <th>370</th>\n",
       "      <td>4.0</td>\n",
       "      <td>2.0</td>\n",
       "      <td>11.0</td>\n",
       "    </tr>\n",
       "  </tbody>\n",
       "</table>\n",
       "<p>371 rows × 3 columns</p>\n",
       "</div>"
      ],
      "text/plain": [
       "     id_company  id_type  id_size\n",
       "0           1.0      1.0      1.0\n",
       "1           1.0      1.0      2.0\n",
       "2           1.0      1.0      3.0\n",
       "3           1.0      1.0      2.0\n",
       "4           1.0      1.0      1.0\n",
       "..          ...      ...      ...\n",
       "366         4.0      2.0     11.0\n",
       "367         4.0      2.0      1.0\n",
       "368         4.0      2.0      2.0\n",
       "369         4.0      2.0      3.0\n",
       "370         4.0      2.0     11.0\n",
       "\n",
       "[371 rows x 3 columns]"
      ]
     },
     "execution_count": 296,
     "metadata": {},
     "output_type": "execute_result"
    }
   ],
   "source": [
    "# On récupère les 3 colonnes des id\n",
    "test = df[[\"id_company\", \"id_type\", \"id_size\"]]\n",
    "test"
   ]
  },
  {
   "cell_type": "code",
   "execution_count": 298,
   "metadata": {},
   "outputs": [
    {
     "data": {
      "text/html": [
       "<div>\n",
       "<style scoped>\n",
       "    .dataframe tbody tr th:only-of-type {\n",
       "        vertical-align: middle;\n",
       "    }\n",
       "\n",
       "    .dataframe tbody tr th {\n",
       "        vertical-align: top;\n",
       "    }\n",
       "\n",
       "    .dataframe thead th {\n",
       "        text-align: right;\n",
       "    }\n",
       "</style>\n",
       "<table border=\"1\" class=\"dataframe\">\n",
       "  <thead>\n",
       "    <tr style=\"text-align: right;\">\n",
       "      <th></th>\n",
       "      <th>Company</th>\n",
       "      <th>Pizza Name</th>\n",
       "      <th>Type</th>\n",
       "      <th>Size</th>\n",
       "      <th>Price</th>\n",
       "    </tr>\n",
       "  </thead>\n",
       "  <tbody>\n",
       "    <tr>\n",
       "      <th>0</th>\n",
       "      <td>Domino's Pizza</td>\n",
       "      <td>Hand Tossed</td>\n",
       "      <td>Cheeses Pizza</td>\n",
       "      <td>Small (10\")</td>\n",
       "      <td>5.99</td>\n",
       "    </tr>\n",
       "    <tr>\n",
       "      <th>1</th>\n",
       "      <td>Domino's Pizza</td>\n",
       "      <td>Hand Tossed</td>\n",
       "      <td>Cheeses Pizza</td>\n",
       "      <td>Medium (12\")</td>\n",
       "      <td>7.99</td>\n",
       "    </tr>\n",
       "    <tr>\n",
       "      <th>2</th>\n",
       "      <td>Domino's Pizza</td>\n",
       "      <td>Hand Tossed</td>\n",
       "      <td>Cheeses Pizza</td>\n",
       "      <td>Large (14\")</td>\n",
       "      <td>9.99</td>\n",
       "    </tr>\n",
       "    <tr>\n",
       "      <th>3</th>\n",
       "      <td>Domino's Pizza</td>\n",
       "      <td>Handmade Pan</td>\n",
       "      <td>Cheeses Pizza</td>\n",
       "      <td>Medium (12\")</td>\n",
       "      <td>7.99</td>\n",
       "    </tr>\n",
       "    <tr>\n",
       "      <th>4</th>\n",
       "      <td>Domino's Pizza</td>\n",
       "      <td>Crunchy Thin Crust</td>\n",
       "      <td>Cheeses Pizza</td>\n",
       "      <td>Small (10\")</td>\n",
       "      <td>5.99</td>\n",
       "    </tr>\n",
       "    <tr>\n",
       "      <th>...</th>\n",
       "      <td>...</td>\n",
       "      <td>...</td>\n",
       "      <td>...</td>\n",
       "      <td>...</td>\n",
       "      <td>...</td>\n",
       "    </tr>\n",
       "    <tr>\n",
       "      <th>366</th>\n",
       "      <td>IMO's Pizza</td>\n",
       "      <td>BBQ Chicken Pizza</td>\n",
       "      <td>Specialty Pizzas</td>\n",
       "      <td>X Large (16\")</td>\n",
       "      <td>23.85</td>\n",
       "    </tr>\n",
       "    <tr>\n",
       "      <th>367</th>\n",
       "      <td>IMO's Pizza</td>\n",
       "      <td>Egg-Ceptional Pizza</td>\n",
       "      <td>Specialty Pizzas</td>\n",
       "      <td>Small (10\")</td>\n",
       "      <td>11.80</td>\n",
       "    </tr>\n",
       "    <tr>\n",
       "      <th>368</th>\n",
       "      <td>IMO's Pizza</td>\n",
       "      <td>Egg-Ceptional Pizza</td>\n",
       "      <td>Specialty Pizzas</td>\n",
       "      <td>Medium (12\")</td>\n",
       "      <td>14.95</td>\n",
       "    </tr>\n",
       "    <tr>\n",
       "      <th>369</th>\n",
       "      <td>IMO's Pizza</td>\n",
       "      <td>Egg-Ceptional Pizza</td>\n",
       "      <td>Specialty Pizzas</td>\n",
       "      <td>Large (14\")</td>\n",
       "      <td>18.65</td>\n",
       "    </tr>\n",
       "    <tr>\n",
       "      <th>370</th>\n",
       "      <td>IMO's Pizza</td>\n",
       "      <td>Egg-Ceptional Pizza</td>\n",
       "      <td>Specialty Pizzas</td>\n",
       "      <td>X Large (16\")</td>\n",
       "      <td>22.30</td>\n",
       "    </tr>\n",
       "  </tbody>\n",
       "</table>\n",
       "<p>371 rows × 5 columns</p>\n",
       "</div>"
      ],
      "text/plain": [
       "            Company           Pizza Name              Type           Size  \\\n",
       "0    Domino's Pizza          Hand Tossed     Cheeses Pizza    Small (10\")   \n",
       "1    Domino's Pizza          Hand Tossed     Cheeses Pizza   Medium (12\")   \n",
       "2    Domino's Pizza          Hand Tossed     Cheeses Pizza    Large (14\")   \n",
       "3    Domino's Pizza         Handmade Pan     Cheeses Pizza   Medium (12\")   \n",
       "4    Domino's Pizza   Crunchy Thin Crust     Cheeses Pizza    Small (10\")   \n",
       "..              ...                  ...               ...            ...   \n",
       "366     IMO's Pizza    BBQ Chicken Pizza  Specialty Pizzas  X Large (16\")   \n",
       "367     IMO's Pizza  Egg-Ceptional Pizza  Specialty Pizzas    Small (10\")   \n",
       "368     IMO's Pizza  Egg-Ceptional Pizza  Specialty Pizzas   Medium (12\")   \n",
       "369     IMO's Pizza  Egg-Ceptional Pizza  Specialty Pizzas    Large (14\")   \n",
       "370     IMO's Pizza  Egg-Ceptional Pizza  Specialty Pizzas  X Large (16\")   \n",
       "\n",
       "     Price  \n",
       "0     5.99  \n",
       "1     7.99  \n",
       "2     9.99  \n",
       "3     7.99  \n",
       "4     5.99  \n",
       "..     ...  \n",
       "366  23.85  \n",
       "367  11.80  \n",
       "368  14.95  \n",
       "369  18.65  \n",
       "370  22.30  \n",
       "\n",
       "[371 rows x 5 columns]"
      ]
     },
     "execution_count": 298,
     "metadata": {},
     "output_type": "execute_result"
    }
   ],
   "source": [
    "# on charge notre dataset originel (avec modification de la colonne price en float)\n",
    "df = pd.read_csv('df_pizza.csv')\n",
    "df"
   ]
  },
  {
   "cell_type": "code",
   "execution_count": 299,
   "metadata": {},
   "outputs": [],
   "source": [
    "# on ajoute les 3 colonnes des id\n",
    "df_final = pd.concat([df, test], axis=1)"
   ]
  },
  {
   "cell_type": "code",
   "execution_count": 300,
   "metadata": {},
   "outputs": [
    {
     "data": {
      "text/html": [
       "<div>\n",
       "<style scoped>\n",
       "    .dataframe tbody tr th:only-of-type {\n",
       "        vertical-align: middle;\n",
       "    }\n",
       "\n",
       "    .dataframe tbody tr th {\n",
       "        vertical-align: top;\n",
       "    }\n",
       "\n",
       "    .dataframe thead th {\n",
       "        text-align: right;\n",
       "    }\n",
       "</style>\n",
       "<table border=\"1\" class=\"dataframe\">\n",
       "  <thead>\n",
       "    <tr style=\"text-align: right;\">\n",
       "      <th></th>\n",
       "      <th>Company</th>\n",
       "      <th>Pizza Name</th>\n",
       "      <th>Type</th>\n",
       "      <th>Size</th>\n",
       "      <th>Price</th>\n",
       "      <th>id_company</th>\n",
       "      <th>id_type</th>\n",
       "      <th>id_size</th>\n",
       "    </tr>\n",
       "  </thead>\n",
       "  <tbody>\n",
       "    <tr>\n",
       "      <th>0</th>\n",
       "      <td>Domino's Pizza</td>\n",
       "      <td>Hand Tossed</td>\n",
       "      <td>Cheeses Pizza</td>\n",
       "      <td>Small (10\")</td>\n",
       "      <td>5.99</td>\n",
       "      <td>1.0</td>\n",
       "      <td>1.0</td>\n",
       "      <td>1.0</td>\n",
       "    </tr>\n",
       "    <tr>\n",
       "      <th>1</th>\n",
       "      <td>Domino's Pizza</td>\n",
       "      <td>Hand Tossed</td>\n",
       "      <td>Cheeses Pizza</td>\n",
       "      <td>Medium (12\")</td>\n",
       "      <td>7.99</td>\n",
       "      <td>1.0</td>\n",
       "      <td>1.0</td>\n",
       "      <td>2.0</td>\n",
       "    </tr>\n",
       "    <tr>\n",
       "      <th>2</th>\n",
       "      <td>Domino's Pizza</td>\n",
       "      <td>Hand Tossed</td>\n",
       "      <td>Cheeses Pizza</td>\n",
       "      <td>Large (14\")</td>\n",
       "      <td>9.99</td>\n",
       "      <td>1.0</td>\n",
       "      <td>1.0</td>\n",
       "      <td>3.0</td>\n",
       "    </tr>\n",
       "    <tr>\n",
       "      <th>3</th>\n",
       "      <td>Domino's Pizza</td>\n",
       "      <td>Handmade Pan</td>\n",
       "      <td>Cheeses Pizza</td>\n",
       "      <td>Medium (12\")</td>\n",
       "      <td>7.99</td>\n",
       "      <td>1.0</td>\n",
       "      <td>1.0</td>\n",
       "      <td>2.0</td>\n",
       "    </tr>\n",
       "    <tr>\n",
       "      <th>4</th>\n",
       "      <td>Domino's Pizza</td>\n",
       "      <td>Crunchy Thin Crust</td>\n",
       "      <td>Cheeses Pizza</td>\n",
       "      <td>Small (10\")</td>\n",
       "      <td>5.99</td>\n",
       "      <td>1.0</td>\n",
       "      <td>1.0</td>\n",
       "      <td>1.0</td>\n",
       "    </tr>\n",
       "    <tr>\n",
       "      <th>...</th>\n",
       "      <td>...</td>\n",
       "      <td>...</td>\n",
       "      <td>...</td>\n",
       "      <td>...</td>\n",
       "      <td>...</td>\n",
       "      <td>...</td>\n",
       "      <td>...</td>\n",
       "      <td>...</td>\n",
       "    </tr>\n",
       "    <tr>\n",
       "      <th>366</th>\n",
       "      <td>IMO's Pizza</td>\n",
       "      <td>BBQ Chicken Pizza</td>\n",
       "      <td>Specialty Pizzas</td>\n",
       "      <td>X Large (16\")</td>\n",
       "      <td>23.85</td>\n",
       "      <td>4.0</td>\n",
       "      <td>2.0</td>\n",
       "      <td>11.0</td>\n",
       "    </tr>\n",
       "    <tr>\n",
       "      <th>367</th>\n",
       "      <td>IMO's Pizza</td>\n",
       "      <td>Egg-Ceptional Pizza</td>\n",
       "      <td>Specialty Pizzas</td>\n",
       "      <td>Small (10\")</td>\n",
       "      <td>11.80</td>\n",
       "      <td>4.0</td>\n",
       "      <td>2.0</td>\n",
       "      <td>1.0</td>\n",
       "    </tr>\n",
       "    <tr>\n",
       "      <th>368</th>\n",
       "      <td>IMO's Pizza</td>\n",
       "      <td>Egg-Ceptional Pizza</td>\n",
       "      <td>Specialty Pizzas</td>\n",
       "      <td>Medium (12\")</td>\n",
       "      <td>14.95</td>\n",
       "      <td>4.0</td>\n",
       "      <td>2.0</td>\n",
       "      <td>2.0</td>\n",
       "    </tr>\n",
       "    <tr>\n",
       "      <th>369</th>\n",
       "      <td>IMO's Pizza</td>\n",
       "      <td>Egg-Ceptional Pizza</td>\n",
       "      <td>Specialty Pizzas</td>\n",
       "      <td>Large (14\")</td>\n",
       "      <td>18.65</td>\n",
       "      <td>4.0</td>\n",
       "      <td>2.0</td>\n",
       "      <td>3.0</td>\n",
       "    </tr>\n",
       "    <tr>\n",
       "      <th>370</th>\n",
       "      <td>IMO's Pizza</td>\n",
       "      <td>Egg-Ceptional Pizza</td>\n",
       "      <td>Specialty Pizzas</td>\n",
       "      <td>X Large (16\")</td>\n",
       "      <td>22.30</td>\n",
       "      <td>4.0</td>\n",
       "      <td>2.0</td>\n",
       "      <td>11.0</td>\n",
       "    </tr>\n",
       "  </tbody>\n",
       "</table>\n",
       "<p>371 rows × 8 columns</p>\n",
       "</div>"
      ],
      "text/plain": [
       "            Company           Pizza Name              Type           Size  \\\n",
       "0    Domino's Pizza          Hand Tossed     Cheeses Pizza    Small (10\")   \n",
       "1    Domino's Pizza          Hand Tossed     Cheeses Pizza   Medium (12\")   \n",
       "2    Domino's Pizza          Hand Tossed     Cheeses Pizza    Large (14\")   \n",
       "3    Domino's Pizza         Handmade Pan     Cheeses Pizza   Medium (12\")   \n",
       "4    Domino's Pizza   Crunchy Thin Crust     Cheeses Pizza    Small (10\")   \n",
       "..              ...                  ...               ...            ...   \n",
       "366     IMO's Pizza    BBQ Chicken Pizza  Specialty Pizzas  X Large (16\")   \n",
       "367     IMO's Pizza  Egg-Ceptional Pizza  Specialty Pizzas    Small (10\")   \n",
       "368     IMO's Pizza  Egg-Ceptional Pizza  Specialty Pizzas   Medium (12\")   \n",
       "369     IMO's Pizza  Egg-Ceptional Pizza  Specialty Pizzas    Large (14\")   \n",
       "370     IMO's Pizza  Egg-Ceptional Pizza  Specialty Pizzas  X Large (16\")   \n",
       "\n",
       "     Price  id_company  id_type  id_size  \n",
       "0     5.99         1.0      1.0      1.0  \n",
       "1     7.99         1.0      1.0      2.0  \n",
       "2     9.99         1.0      1.0      3.0  \n",
       "3     7.99         1.0      1.0      2.0  \n",
       "4     5.99         1.0      1.0      1.0  \n",
       "..     ...         ...      ...      ...  \n",
       "366  23.85         4.0      2.0     11.0  \n",
       "367  11.80         4.0      2.0      1.0  \n",
       "368  14.95         4.0      2.0      2.0  \n",
       "369  18.65         4.0      2.0      3.0  \n",
       "370  22.30         4.0      2.0     11.0  \n",
       "\n",
       "[371 rows x 8 columns]"
      ]
     },
     "execution_count": 300,
     "metadata": {},
     "output_type": "execute_result"
    }
   ],
   "source": [
    "# Notre dataframe est désormais complet.\n",
    "df_final"
   ]
  },
  {
   "cell_type": "markdown",
   "metadata": {},
   "source": [
    "---"
   ]
  },
  {
   "cell_type": "markdown",
   "metadata": {},
   "source": [
    "# <center> MCD </center>"
   ]
  },
  {
   "cell_type": "markdown",
   "metadata": {},
   "source": [
    "![mcd](Capture_MCD.JPG)"
   ]
  },
  {
   "cell_type": "markdown",
   "metadata": {},
   "source": [
    "---"
   ]
  },
  {
   "cell_type": "markdown",
   "metadata": {},
   "source": [
    "## <center>Insertion des données dans la BDD</center>"
   ]
  },
  {
   "cell_type": "markdown",
   "metadata": {},
   "source": [
    "## Bdd"
   ]
  },
  {
   "cell_type": "code",
   "execution_count": 302,
   "metadata": {},
   "outputs": [
    {
     "name": "stdout",
     "output_type": "stream",
     "text": [
      "La bdd a bien été créée\n"
     ]
    }
   ],
   "source": [
    "# Création de la bdd\n",
    "\n",
    "try:\n",
    "    conn = msql.connect(host='localhost', user='root', port='8080', password='root')\n",
    "\n",
    "    if conn.is_connected():\n",
    "        cursor = conn.cursor()\n",
    "        cursor.execute('''\n",
    "\n",
    "CREATE DATABASE IF NOT EXISTS `Brief_pizza` DEFAULT CHARACTER SET utf8 COLLATE utf8_general_ci;\n",
    "USE `Brief_pizza`;\n",
    "DROP TABLE IF EXISTS `Brief_pizza`;\n",
    "\n",
    "CREATE TABLE `PIZZA` (\n",
    "  `id_pizza` INT(11) NOT NULL AUTO_INCREMENT,\n",
    "  `nom_pizza` VARCHAR(100),\n",
    "  `price` INT(11),\n",
    "  `id_type` INT(11),\n",
    "  `id_size` INT(11),\n",
    "  `id_company` INT(11),  \n",
    "  PRIMARY KEY (`id_pizza`)\n",
    ") ENGINE=InnoDB DEFAULT CHARSET=utf8;\n",
    "\n",
    "\n",
    "CREATE TABLE `COMPANY` (\n",
    "  `id_company` INT(11) NOT NULL AUTO_INCREMENT,\n",
    "  `nom_company` VARCHAR(42) NOT NULL,\n",
    "  PRIMARY KEY (`id_company`)\n",
    ") ENGINE=InnoDB DEFAULT CHARSET=utf8;\n",
    "\n",
    "CREATE TABLE `SIZE` (\n",
    "  `id_size` INT(11) NOT NULL AUTO_INCREMENT,\n",
    "  `size_pizza` VARCHAR(42) NOT NULL,\n",
    "  PRIMARY KEY (`id_size`)\n",
    ") ENGINE=InnoDB DEFAULT CHARSET=utf8;\n",
    "\n",
    "CREATE TABLE `TYPE` (\n",
    "  `id_type` INT(11) NOT NULL AUTO_INCREMENT,\n",
    "  `type_pizza` VARCHAR(42) NOT NULL,\n",
    "  PRIMARY KEY (`id_type`)\n",
    ") ENGINE=InnoDB DEFAULT CHARSET=utf8;\n",
    "\n",
    "\n",
    "    ''')  \n",
    "        print(\"La bdd a bien été créée\")\n",
    "except Error as e:\n",
    "    print(\"Error while connecting to MySQL\", e)"
   ]
  },
  {
   "cell_type": "markdown",
   "metadata": {},
   "source": [
    "## Company"
   ]
  },
  {
   "cell_type": "code",
   "execution_count": 303,
   "metadata": {},
   "outputs": [
    {
     "name": "stdout",
     "output_type": "stream",
     "text": [
      "Connexion à la bdd:  ('brief_pizza',)\n",
      "Insertion data : OK\n"
     ]
    }
   ],
   "source": [
    "# insertion table company\n",
    "\n",
    "try:\n",
    "    conn = msql.connect(host='localhost', port='8080', database='brief_pizza', user='root', password='root')\n",
    "    if conn.is_connected():\n",
    "        cursor = conn.cursor()\n",
    "        cursor.execute(\"select database();\")\n",
    "        record = cursor.fetchone()\n",
    "        print(\"Connexion à la bdd: \", record)\n",
    "\n",
    "        for i in df_final['Company'].unique():\n",
    "            # %s = valeur insérée \n",
    "            sql = \"INSERT INTO brief_pizza.company (nom_company) VALUES (%s)\"\n",
    "            cursor.execute(sql, (i,))\n",
    "            # application des changements à la bdd\n",
    "            conn.commit()\n",
    "        print(\"Insertion data : OK\")\n",
    "except Error as e:\n",
    "             print(\"Error while connecting to MySQL\", e)"
   ]
  },
  {
   "cell_type": "markdown",
   "metadata": {},
   "source": [
    "## Size"
   ]
  },
  {
   "cell_type": "code",
   "execution_count": 304,
   "metadata": {},
   "outputs": [
    {
     "name": "stdout",
     "output_type": "stream",
     "text": [
      "Connexion à la bdd:  ('brief_pizza',)\n",
      "Insertion data : OK\n"
     ]
    }
   ],
   "source": [
    "# insertion table size\n",
    "\n",
    "try:\n",
    "    conn = msql.connect(host='localhost', port='8080', database='brief_pizza', user='root', password='root')\n",
    "    if conn.is_connected():\n",
    "        cursor = conn.cursor()\n",
    "        cursor.execute(\"select database();\")\n",
    "        record = cursor.fetchone()\n",
    "        print(\"Connexion à la bdd: \", record)\n",
    "\n",
    "        for i in df_final['Size'].unique():\n",
    "            # %s = valeur insérée \n",
    "            sql = \"INSERT INTO brief_pizza.size (size_pizza) VALUES (%s)\"\n",
    "            cursor.execute(sql, (i,))\n",
    "            # application des changements à la bdd\n",
    "            conn.commit()\n",
    "        print(\"Insertion data : OK\")\n",
    "except Error as e:\n",
    "             print(\"Error while connecting to MySQL\", e)"
   ]
  },
  {
   "cell_type": "markdown",
   "metadata": {},
   "source": [
    "## Type"
   ]
  },
  {
   "cell_type": "code",
   "execution_count": 305,
   "metadata": {},
   "outputs": [
    {
     "name": "stdout",
     "output_type": "stream",
     "text": [
      "Connexion à la bdd:  ('brief_pizza',)\n",
      "Insertion data : OK\n"
     ]
    }
   ],
   "source": [
    "# insertion table type\n",
    "\n",
    "try:\n",
    "    conn = msql.connect(host='localhost', port='8080', database='brief_pizza', user='root', password='root')\n",
    "    if conn.is_connected():\n",
    "        cursor = conn.cursor()\n",
    "        cursor.execute(\"select database();\")\n",
    "        record = cursor.fetchone()\n",
    "        print(\"Connexion à la bdd: \", record)\n",
    "\n",
    "        for i in df_final['Type'].unique():\n",
    "            # %s = valeur insérée \n",
    "            sql = \"INSERT INTO brief_pizza.type (type_pizza) VALUES (%s)\"\n",
    "            cursor.execute(sql, (i,))\n",
    "            # application des changements à la bdd\n",
    "            conn.commit()\n",
    "        print(\"Insertion data : OK\")\n",
    "except Error as e:\n",
    "             print(\"Error while connecting to MySQL\", e)"
   ]
  },
  {
   "cell_type": "markdown",
   "metadata": {},
   "source": [
    "## Pizza"
   ]
  },
  {
   "cell_type": "code",
   "execution_count": 306,
   "metadata": {},
   "outputs": [
    {
     "name": "stdout",
     "output_type": "stream",
     "text": [
      "Connexion à la bdd:  ('brief_pizza',)\n",
      "Insertion data : OK\n"
     ]
    }
   ],
   "source": [
    "# insertion table pizza\n",
    "\n",
    "try:\n",
    "    conn = msql.connect(host='localhost', port='8080', database='brief_pizza', user='root', password='root')\n",
    "    if conn.is_connected():\n",
    "        cursor = conn.cursor()\n",
    "        cursor.execute(\"select database();\")\n",
    "        record = cursor.fetchone()\n",
    "        print(\"Connexion à la bdd: \", record)\n",
    "\n",
    "\n",
    "        for index, row in df_final.iterrows():\n",
    "            # %s = valeur insérée \n",
    "            sql = \"INSERT INTO brief_pizza.pizza (nom_pizza, price, id_type, id_size, id_company) VALUES (%s,%s,%s,%s,%s)\"\n",
    "            cursor.execute(sql, (row['Pizza Name'], row['Price'], row['id_type'], row['id_size'], row['id_company']))\n",
    "            # application des changements à la bdd\n",
    "            conn.commit()\n",
    "        print(\"Insertion data : OK\")\n",
    "except Error as e:\n",
    "            print(\"Error while connecting to MySQL\", e)"
   ]
  },
  {
   "cell_type": "markdown",
   "metadata": {},
   "source": [
    "## Ajout des clés étrangères"
   ]
  },
  {
   "cell_type": "code",
   "execution_count": 307,
   "metadata": {},
   "outputs": [
    {
     "name": "stdout",
     "output_type": "stream",
     "text": [
      "Les clées étrangères ont bien été ajoutées.\n"
     ]
    }
   ],
   "source": [
    "try:\n",
    "    conn = msql.connect(host='localhost', user='root', port='8080', password='root', database='brief_pizza')\n",
    "\n",
    "    if conn.is_connected():\n",
    "        cursor = conn.cursor()\n",
    "        cursor.execute('''\n",
    "\n",
    "ALTER TABLE `PIZZA` ADD FOREIGN KEY (`id_company`) REFERENCES `COMPANY` (`id_company`);\n",
    "ALTER TABLE `PIZZA` ADD FOREIGN KEY (`id_size`) REFERENCES `SIZE` (`id_size`);\n",
    "ALTER TABLE `PIZZA` ADD FOREIGN KEY (`id_type`) REFERENCES `TYPE` (`id_type`);\n",
    "        \n",
    "        \n",
    "        ''')  \n",
    "        print(\"Les clées étrangères ont bien été ajoutées.\")\n",
    "except Error as e:\n",
    "    print(\"Error while connecting to MySQL\", e)"
   ]
  },
  {
   "cell_type": "markdown",
   "metadata": {},
   "source": [
    "---"
   ]
  },
  {
   "cell_type": "markdown",
   "metadata": {},
   "source": [
    "# Création d'une vue et d'une procédure stockée"
   ]
  },
  {
   "cell_type": "code",
   "execution_count": 26,
   "metadata": {},
   "outputs": [
    {
     "name": "stdout",
     "output_type": "stream",
     "text": [
      "La vue a bien été créée\n"
     ]
    }
   ],
   "source": [
    "# création d'une vue : toutes les pizzas de Domino's Pizza (affiche nom + prix)\n",
    "\n",
    "try:\n",
    "    conn = msql.connect(host='localhost', user='root', port='8080', password='root', database='brief_pizza')\n",
    "\n",
    "    if conn.is_connected():\n",
    "        cursor = conn.cursor()\n",
    "        cursor.execute('''\n",
    "        \n",
    "CREATE View view_pizza_Dominos AS SELECT nom_pizza, price FROM pizza WHERE id_company = 1\n",
    "            ''')\n",
    "        \n",
    "        print(\"La vue a bien été créée\")\n",
    "except Error as e:\n",
    "    print(\"Error while connecting to MySQL\", e)"
   ]
  },
  {
   "cell_type": "code",
   "execution_count": 25,
   "metadata": {},
   "outputs": [
    {
     "name": "stdout",
     "output_type": "stream",
     "text": [
      "La procédure a bien été créée\n"
     ]
    }
   ],
   "source": [
    "# création d'une procédure stockée : permet d'ajouter une company à la table company\n",
    "# appel : CALL ajout_company('nom_company')\n",
    "\n",
    "try:\n",
    "    conn = msql.connect(host='localhost', user='root', port='8080', password='root', database='brief_pizza')\n",
    "\n",
    "    if conn.is_connected():\n",
    "        cursor = conn.cursor()\n",
    "        cursor.execute('''\n",
    "        \n",
    "\n",
    "CREATE PROCEDURE ajout_company(IN p_nom_company VARCHAR(42)) BEGIN INSERT INTO company(nom_company) VALUES (p_nom_company);END\n",
    " ''')\n",
    "        \n",
    "        print(\"La procédure a bien été créée\")\n",
    "except Error as e:\n",
    "    print(\"Error while connecting to MySQL\", e)"
   ]
  }
 ],
 "metadata": {
  "kernelspec": {
   "display_name": "Python 3",
   "language": "python",
   "name": "python3"
  },
  "language_info": {
   "codemirror_mode": {
    "name": "ipython",
    "version": 3
   },
   "file_extension": ".py",
   "mimetype": "text/x-python",
   "name": "python",
   "nbconvert_exporter": "python",
   "pygments_lexer": "ipython3",
   "version": "3.8.3"
  }
 },
 "nbformat": 4,
 "nbformat_minor": 4
}
